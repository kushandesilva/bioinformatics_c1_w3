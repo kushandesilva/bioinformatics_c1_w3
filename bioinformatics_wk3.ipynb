{
 "cells": [
  {
   "cell_type": "code",
   "execution_count": 9,
   "metadata": {},
   "outputs": [],
   "source": [
    "#Calculate how different two sequences are from each other. The bigger the number, the more different\n",
    "#p and q are both sequence strings that should be the same length\n",
    "#Return an integer\n",
    "def HammingDistance(p, q):\n",
    "    dist = 0\n",
    "    if len(p)==len(q): #check to make sure sequences are the same length\n",
    "        for i in range(len(p)):\n",
    "            if p[i]==q[i]: #if the sequence has the same letter at the same position, don't add to score\n",
    "                dist+=0\n",
    "            else:\n",
    "                dist+=1\n",
    "    return dist"
   ]
  },
  {
   "cell_type": "code",
   "execution_count": 10,
   "metadata": {},
   "outputs": [],
   "source": [
    "def Neighbors(pattern, d):\n",
    "    if d == 0: #if you're allowed no mismatches, just return the pattern\n",
    "        return pattern\n",
    "    elif len(pattern) == 1: #if the pattern is only 1nt long, return all the possible nucleotides\n",
    "        return {'A', 'C', 'G', 'T'}\n",
    "    neighborhood = []\n",
    "    suffix_neighbors = Neighbors(pattern[1:], d) #recursion. Logically goes off the rails for me here.\n",
    "    for text in suffix_neighbors:\n",
    "        nucleotides = {'A', 'C', 'G', 'T'}\n",
    "        if HammingDistance(pattern[1:], text) < d:\n",
    "            for x in nucleotides:\n",
    "                neighborhood.append(x + text)\n",
    "        else:\n",
    "            neighborhood.append(pattern[0] + text)\n",
    "    return neighborhood"
   ]
  },
  {
   "cell_type": "code",
   "execution_count": 14,
   "metadata": {},
   "outputs": [
    {
     "name": "stdout",
     "output_type": "stream",
     "text": [
      "TAACC TAGGT AGGAT TTTTC TGGCT AGCCA TGAGC CGGCC ATACC AGTAC CTATT GTAAC TGCGT ACGGC GTTCT GGTGG ATCGG CGATG TAGCC TTGAC TCGCC TGTAA AAAGT TTGTT CGAAC ATCGT TGTGC GAACA GTGGC AGTGA AATTT CCCGT CGGAT TGGAA TACGG ATTCC GTTGA ATGCA TATAC CGCTC CCATC GGTCC GAGAA CGGTT GGAAC CGGTG CCTAA CATAT ACGGT GGTTG ACCGT TTATG GGATT TGTAC GGATA CCAGT GATCA TGCCT GAATG TTCAT CCAAC CCGAT CTGAT CCTCC CGATA GCTCG GATGG GTCGT ACACC CCCAG TCCGT TAAAC ATGAG AGGCC AGCGC CCCAA GAAAA AGTTG ACCTT GCGTT CATTC CTGGC GGAAA AGTTC ATCAT GGGTT GATAA GGGTC GTGCA GCCTA AAGCA CTACA CAGTG CCTCG TGGGC TGTGA CCTGA GCCAA CTCCG GGAGA CCAAG GGACC GCCGG GCCGT TGAGT TCCGG AATCA ACCAG AAGGC CCACG TCAGC CACAC TACTA TCCTC CGCTG ACCCA TTTGT TCTTA CCACT AAAGG CTGCA TAACG ATACT ACGTG GATAC AAGTC ATCAA GGGAT CTTCG TATCC TTGCA GGTAA TCATG TTCCC GTAAG TACTC GGTCA GAACG CTTCC CCATA CGGGC ACATA GACCA GTCAA TTCTC CGTCT ATTTC CATAC CTCCC CTGCC AAATC ACTCG ACAAC GACGC TTCTT GTTTT CCCCT AGGGA CTTAA CGTAT AACTA AGTTA TATGT TCCAC CTTAC AGACC GACAC TATTC ACGAC GGTTC CACCA AGTGT CATTA ATTTA GTATC AACCT CCGTA CAGTC GAGTT TGTTT GTAGC CTAAC CACCC GTGGT TTGAG GTCAT ACACT TGACT ACTGC TGTTA CAGCC TACTT AACTC TCACC GCGTC AATGT GAAGC GCAAC TTGTG GTCCG AATGC ACACG TCCCG GGCCG AGGGC TCTCC TTATT ACCGG ACACA ATAAC ATCCC CAATT GTGCC CGAAG CTTTG TCCTA CTCAG TCTCG TACCG TGAAC AAATG CCCCC TGGGT ACAAT ACCCG ACCGA GTATA GTGTA AGCCC TTGAT ACTAT AATGG ACCCC GGCAA CCGGC TGCCC TGTTC CGCGG AATTC GATCC GTACA ACCAC TCCTG TCCGA TGATA ATAGC TTACA ATTGA ATTTG GTCAC CTGTG AAATT TACAA ACGCC GCACC GCTGT TTGAA ATGTA CTGCT AATCC ACCTC TAATT TCCAA CAAGC TTTGA TGAAT GATTT TAGGG AGACA TACGC GTTAG TGCAT TCAAT GCCCC TGATG CATGT CCTGC GAACT ACCTA GATTG GATCG CGTTC CGGAA GCCAT TCAGT CTAAG CTACC AACAT CCAAT CCCTC AACGC TGGCA CAACG GTCCC TAAGC TCATA GGTAC CTCGC TCCAT GAGGT GCTCA GTCCA TCGTT TCCAG AACTG AATTA TACCA GGCGA GTTTG GGTAG TGCCA TGCTG CTACG TTAAC GTGGG AACCC AGGGG AGCTC GCCAG AGCGG GAGTA GTATT CGCGC GACGG CGATC CCCGA GGATG TTGCG CCCCG CTCAA AACCA ATGGT CACTT GTCTA GTTGC CCCTA TCACA CGAAT ATCGA GTAGA TCGTA CATAA AAGCC CAAGT AGCCG GTTTC ATGTG GTGAT CGGCT GTAAA GCCTG GTGTT CAGGA CACGA TTGTC GCGCG CCTGG ATTCG CTCTT GTAAT AAGCT CAAAC GTACG TATCG AACAA CCTAC GTACC TACCC CCGAA AGGTC CGAGC CGTTT GGTAT GCCCT CTGAA CGGGG GTCGA TTTAT TGGTA AACGT GTGGA TGGTG GCTTC TATGG TTAAT ACTCA AAACC CAAAT GCCTC CGCAA CAACA GTCCT CCATG AACCG ATCTA CAGAC TGCTT AGAAC CCAGG AGTGC CCGGT TAGTG GGGTA CCTCA AGGTG CCCTT GTTGT CACCT AAAGC GGTCG GTGAC CTGGG CCGCG TGAAG GATGT TGGTT CTTCA CGAGG GGACA CTTGT ACCAT CGTGT TAATC CGGTC GGCCA GTAGT ATGCC CACGT ACTGG CACCG AGGCT CAGTT GGTGA GAAAC TGATT GCTGG GCGGT CGCCT AGCAC CGTAA CACAT GACTC ACCTG CGATT ATGCG GCGTA TTCCA CGAGA GAGGG CTCAC TCCCC GGCTG CAGGG CCGAC GTACT TGGGA AGTCC GCAAA AACGG CGTTG ATCTG ACCAA CCACA GCCGA GACCC GTGAG TCTTC CCCAT ATTGC GAACC ACTAA AGTGG CTGGT TGTAT TGCCG CTAGC ACATT GGGGA GCATT CCGCA CTGAG TACCT CCCGG GCACG CCAGA AGCGT GCCCA TTGGA TCGAA CTGGA CTGAC CATGG TTCGT AAACA ACTTC TAGTC GGATC CCTAG AAACG CAGCG GACAT CCAGC ATGAT CAAGA GCTGA ATCTT CTGTT CATTG CGAGT TATGA GCGTG CTCAT ATATC GGCCC CCGAG GACCT TCTTT ACTCC CGTCA TGACA CGAAA ACAGC CTTAT GTTCG TGACC AATTG ACATC GTTTA CCGTG GAATT CCGTC TCTAA CGACA GTTGG AGAGC GACCG AATCG TTCAA ATCCG AGAGT TGGAG CACAG TATGC TGGTC TGTTG GGTTT CAACC CCACC CAGAG TCGTG ACGCT TTGGT CGCGA AGTAA CGCAT CTCCT CGCAC TTACC TCCGC TCCCA CCATT CGCTT CCCTG TTGTA TGCTA TCATC AGACT TAGCG ACTGA CAATC ATGCT CTCGG GAAAT CACGC CGTGC CAGGT GGTCT CGTCG ATTCT CCCAC TGTGG TACAC TCTGA ACGTC CCAAA TTTCC ATCAC TCAAG CGACC GGTGC CCCCA CGCCC ACGGA CGTTA TTGCT CCGGG CATCG TAGAC GCTTG CCCGC ATCGC CTAAA CTCGT CTAGT CGTAC CCGCT TCGCG GTTCC ACCGC AGTCG GGCTC AAAAC CGTGG AACAG GGCGT GTGCT TCAAA GATGC ATGGC GCCCG GATGA ATACA AGCCT CGCCG AACGA GCGAA CTAAT AATCT CGGGT GTTAA GGCTT GAGCC GGGCA ACGCG TGGAT CAGCT CTTGC AATAC CATCC AGATC AGCTG TCAAC CATGC TCTGG CGTGA ACGAG GGGCT ATCCA GTGAA ACGAA CTCCA CTATC AGCAA GTTCA GCTAC AAGAC CGGTA GATTC TTCCG ACGCA ATCCT TCGAC CTCGA CCGTT TCGGT AGTTT AAGCG CAAAG TCTGT ATTGT CGCGT GAATC TAAAT TGAAA TCACT ACCCT ATTGG TCGTC CCGGA GCAAT ATGAA CACAA ACAGT ATGGG CTGTA TGGCG ATGGA CGGAC\n"
     ]
    }
   ],
   "source": [
    "def MotifEnumeration(dna, k, d):\n",
    "    motifs = []\n",
    "    for i in range(len(dna)): #cycle through the dna list\n",
    "        if i == 0: #for the first string\n",
    "            for j in range(len(dna[i])-k+1): #cycle through the first string\n",
    "                pattern = (dna[i][j:j+k]) #identify a sequence of k-length in the first string\n",
    "                pattern_p=Neighbors(pattern, d) #use that pattern to identify all possibilities with d mismatches\n",
    "                if isinstance(pattern_p, str)==True:  #If there's only one value, it's a string not a list.\n",
    "                    motifs.append(pattern_p) #add to potential motif list\n",
    "                else:\n",
    "                    motifs.extend(pattern_p) #add to potential motif list\n",
    "    motifs = list(set(motifs)) #get rid of duplicates\n",
    "    temp = {}\n",
    "    removemotif = []\n",
    "    for j in range(1, len(dna)): #now look at the other dna strings\n",
    "        for motif in motifs: #cycle through the motifs and see if they're in the other dna strings\n",
    "            #print(motif) #checking that things are working\n",
    "            for i in range(len(dna[j])-k+1):\n",
    "                if HammingDistance(motif, dna[j][i:i+k]) <= d: #identify if motif occurs in the string\n",
    "                    if motif in list(temp.keys()):\n",
    "                        temp[motif]+=1\n",
    "                    else:\n",
    "                        temp[motif]=1\n",
    "                else:\n",
    "                    if motif not in list(temp.keys()):\n",
    "                        temp[motif]=0\n",
    "            if temp[motif] == 0: #identify motifs that should be removed because they don't occur in the string\n",
    "                removemotif.append(motif)\n",
    "        #print(motifs) #checking that things are working\n",
    "        temp = {} #reset temp before cycling to the next dna string\n",
    "    for motif in list(set(removemotif)): #remove all the motifs not in every string\n",
    "        motifs.remove(motif)\n",
    "    return motifs\n",
    "\n",
    "text = [\"CTTTGCTCGAAACCCTGTGGACTTC\", \"CATGGTTAATTACCTAAACCCGTTC\", \"CTATTGTGTCAAACCCCCGGGTGCG\", \"ACGGGTGTGCACCGCCAACTCATCC\", \n",
    "        \"AATGATCGTAGATCCGAGCCGCATT\", \"TGCTACACCCGGATTCGTGAAGGGA\"]\n",
    "a = MotifEnumeration(text, 5, 2)\n",
    "print(*a)"
   ]
  },
  {
   "cell_type": "code",
   "execution_count": 15,
   "metadata": {},
   "outputs": [],
   "source": [
    "#Count how frequently a symbol occcurs at a certain position when given a list of motifs of the same length\n",
    "#motifs is a list of strings of the same length\n",
    "#count output is a dictionary with A C G T as the keys\n",
    "def Count(motifs):\n",
    "    count = {} # initializing the count dictionary\n",
    "    k = len(motifs[0]) #get the length of each motif row (x axis)\n",
    "    for symbol in \"ACGT\": #Make A C G T a key\n",
    "        count[symbol] = [] #make an empty list for each key\n",
    "        for j in range(k): #for the length of the motif...\n",
    "            count[symbol].append(0) #...for the key, put a zero for each position in the list for now\n",
    "    t = len(motifs) #get the number of keys in the dictionary (y axis)\n",
    "    for i in range(t): #for every key...\n",
    "        for j in range(k): #for list position in each key...\n",
    "            symbol = motifs[i][j] #for this specific position for a key...\n",
    "            count[symbol][j] += 1 #Add one every time this position occurs in the matrix at this position\n",
    "    return count"
   ]
  },
  {
   "cell_type": "code",
   "execution_count": 18,
   "metadata": {},
   "outputs": [
    {
     "data": {
      "text/plain": [
       "9.916290005356972"
      ]
     },
     "execution_count": 18,
     "metadata": {},
     "output_type": "execute_result"
    }
   ],
   "source": [
    "#similar to Count, but get a ratio instead. All columns should add to 1.\n",
    "#motifs input is a list of strings of the same length\n",
    "#profile output is a dictionary with A C G T as keys\n",
    "def Profile(motifs):\n",
    "    t = len(motifs)\n",
    "    k = len(motifs[0])\n",
    "    profile = Count(motifs)\n",
    "    sub= Count(motifs)\n",
    "    for x in range(t): #for key in position x...\n",
    "        for y in range(k): #for list position in that key...\n",
    "            symbol=motifs[x][y]\n",
    "            profile[symbol][y]=(sub[symbol][y])/t\n",
    "    return profile\n",
    "\n",
    "motifs = [\n",
    "\"TCGGGGGTTTTT\",\n",
    "\"CCGGTGACTTAC\",\n",
    "\"ACGGGGATTTTC\",\n",
    "\"TTGGGGACTTTT\",\n",
    "\"AAGGGGACTTCC\",\n",
    "\"TTGGGGACTTCC\",\n",
    "\"TCGGGGATTCAT\",\n",
    "\"TCGGGGATTCCT\",\n",
    "\"TAGGGGAACTAC\",\n",
    "\"TCGGGTATAACC\"\n",
    "]\n",
    "\n",
    "Profile(motifs)\n",
    "\n",
    "#Need this for calculating log2 values\n",
    "import math\n",
    "\n",
    "#Calculate the randomness of a motif\n",
    "#uses a list of dna strings as the input\n",
    "#output is a number standing for the entropy\n",
    "#This wasn't a very useful function.\n",
    "def entropy(motifs):\n",
    "    prof = Profile(motifs)\n",
    "    #result = []\n",
    "    result2 = 0\n",
    "    for i in range(len(prof[\"A\"])):\n",
    "        temp = 0\n",
    "        for key in prof:\n",
    "            if prof[key][i] != 0: #don't want to take the log of zero values\n",
    "                temp += abs(prof[key][i]*math.log2(prof[key][i]))\n",
    "            else:\n",
    "                temp += 0\n",
    "        #result.append(temp) #this is really just here to see that things were working\n",
    "        result2 += temp\n",
    "    return result2\n",
    "\n",
    "0.5*math.log2(0.5)*2\n",
    "\n",
    "0.25*math.log2(0.25)*4\n",
    "\n",
    "1*math.log2(1)\n",
    "\n",
    "0.25*math.log2(0.25)*2+0.5*math.log2(0.5)\n",
    "\n",
    "entropy(motifs)"
   ]
  },
  {
   "cell_type": "code",
   "execution_count": 19,
   "metadata": {},
   "outputs": [
    {
     "data": {
      "text/plain": [
       "['TAA', 'ATA', 'ACG', 'AAA']"
      ]
     },
     "execution_count": 19,
     "metadata": {},
     "output_type": "execute_result"
    }
   ],
   "source": [
    "#Identify the motif with the lowest score\n",
    "#pattern is a string\n",
    "#dna is a list of strings\n",
    "#return a list with the best match for each dna string \n",
    "def Motifs(pattern, dna):\n",
    "    motifs = []\n",
    "    k= len(pattern)\n",
    "    if isinstance(dna, str)==True: #verify if the input is a list or a string\n",
    "        new_dna = []\n",
    "        new_dna.append(dna)\n",
    "        dna = new_dna #If a string, make it a list so it works with the rest of the function\n",
    "    for seq in dna:\n",
    "        score = k\n",
    "        temp_motif = {}\n",
    "        for i in range(len(seq)-k+1): #find the motifs with the lowest score\n",
    "            new_score = HammingDistance(pattern, seq[i:i+k])\n",
    "            if new_score < score:\n",
    "                temp_motif[seq[i:i+k]]=new_score\n",
    "        if len(temp_motif)==0: #if you get nothing lower, just return the first k-mer\n",
    "            motifs.append(seq[0:k])\n",
    "        else:\n",
    "            low_score = min(temp_motif.values()) #Find the lowest score\n",
    "            for key in temp_motif: #identify the motif with the lowest score\n",
    "                if temp_motif[key] == low_score:\n",
    "                    motifs.append(key)\n",
    "                    break #just want one motif per dna string, so end search once you find it\n",
    "    return motifs\n",
    "\n",
    "dna = [\"TTACCTTAAC\", \"GATATCTGTC\", \"ACGGCGTTCG\", \"CCCTAAAGAG\"]    \n",
    "\n",
    "Motifs(\"AAA\", dna)"
   ]
  },
  {
   "cell_type": "code",
   "execution_count": 20,
   "metadata": {},
   "outputs": [
    {
     "data": {
      "text/plain": [
       "4"
      ]
     },
     "execution_count": 20,
     "metadata": {},
     "output_type": "execute_result"
    }
   ],
   "source": [
    "#Return a score for how different a pattern is from the dna input\n",
    "#pattern is a string\n",
    "#dna is a list of strings\n",
    "#output score is an integer\n",
    "def d(pattern, dna):\n",
    "    motifs = Motifs(pattern, dna)\n",
    "    if len(motifs)==0:\n",
    "        return len(pattern)\n",
    "    score = 0\n",
    "    for motif in motifs:\n",
    "        x = HammingDistance(pattern, motif)\n",
    "        score += x\n",
    "    return score\n",
    "\n",
    "d(\"AAA\", dna)"
   ]
  },
  {
   "cell_type": "code",
   "execution_count": 23,
   "metadata": {},
   "outputs": [
    {
     "data": {
      "text/plain": [
       "'AGCCAA'"
      ]
     },
     "execution_count": 23,
     "metadata": {},
     "output_type": "execute_result"
    }
   ],
   "source": [
    "#Search for the k-mer that is in at least one string and has the lowest score for all strings\n",
    "#dna can be either a string or a list of strings.\n",
    "#k is an integer for how long the output is supposed to be\n",
    "#output is median, which is a string\n",
    "def MedianString(dna, k):\n",
    "    kmers = []\n",
    "    median = \"\"\n",
    "    if isinstance(dna, str)==True: #If dna is a string, make it a list\n",
    "        new_dna = []\n",
    "        new_dna.append(dna)\n",
    "        dna = new_dna \n",
    "    distance = len(dna[0])*len(dna)\n",
    "    for seq in dna: #for each string in the dna list\n",
    "        for i in range(len(seq)-k+1): #make a list of all kmers\n",
    "            kmers.append(seq[i:i+k])\n",
    "    kmers = list(set(kmers)) #remove duplicates\n",
    "    for kmer in kmers: \n",
    "        if distance > d(kmer, dna): #if the differences are less than the total length\n",
    "            distance = d(kmer, dna) #update the d output as the new min\n",
    "            median = kmer #return the kmer with the lowest distance\n",
    "        elif distance == d(kmer, dna):\n",
    "            median = kmer\n",
    "    return median\n",
    "\n",
    "dna = [\"AAATTGACGCAT\", \"GACGACCACGTT\", \"CGTCAGCGCCTG\", \"GCTGAGCACCGG\", \"AGTTCGGGACAG\"]\n",
    "dna2 = [\"TGATGATAACGTGACGGGACTCAGCGGCGATGAAGGATGAGT\", \"CAGCGACAGACAATTTCAATAATATCCGCGGTAAGCGGCGTA\", \n",
    "        \"TGCAGAGGTTGGTAACGCCGGCGACTCGGAGAGCTTTTCGCT\", \"TTTGTCATGAACTCAGATACCATAGAGCACCGGCGAGACTCA\", \n",
    "        \"ACTGGGACTTCACATTAGGTTGAACCGCGAGCCAGGTGGGTG\", \"TTGCGGACGGGATACTCAATAACTAAGGTAGTTCAGCTGCGA\", \n",
    "        \"TGGGAGGACACACATTTTCTTACCTCTTCCCAGCGAGATGGC\", \"GAAAAAACCTATAAAGTCCACTCTTTGCGGCGGCGAGCCATA\", \n",
    "        \"CCACGTCCGTTACTCCGTCGCCGTCAGCGATAATGGGATGAG\", \"CCAAAGCTGCGAAATAACCATACTCTGCTCAGGAGCCCGATG\"]\n",
    "dna3 = [\"GGCGGGAGGCAAGAGTCCGCGTCTCAAGATTATAAGCGGGGG\", \"GCGCCACACGAAGTTGGATACCCTTCGAGTGAGGGAAGACAA\", \n",
    "        \"TGTTTAAGGCAACCTTTTGCTTCTCAACCACGCGCTGGCTCC\", \"CCTATCGGACCCCGCAATGACTCAAGCCAAGTTGCGAGGGTT\", \n",
    "        \"ATAATATCGTTCTTAGATAATCGCACCCTCAGAGTAAGACAA\", \"CTCACTAGACAACAACCTAGATGCTATCTGTGGGTTACTAAG\", \n",
    "        \"TGCAGTGTCACAGACCGAGAGGCTCGCTCGAGCCAAAGCACA\", \"GAGTGGTCTCGACACCTCAGTCAAACCGCATCCTGAGCCCGG\", \n",
    "        \"TTGCATTCATAGGCTATCTCCTGGTTGTTACCCTACAGCCAA\", \"AGTCAATAGCCTCTACCGCATATAATCCAGCAGTAGGAGCGA\"]\n",
    "MedianString(dna, 3)\n",
    "MedianString(dna2, 6)\n",
    "MedianString(dna3, 6)"
   ]
  },
  {
   "cell_type": "code",
   "execution_count": 26,
   "metadata": {},
   "outputs": [
    {
     "data": {
      "text/plain": [
       "['CACCCT', 'AACCCT', 'TACCCT']"
      ]
     },
     "execution_count": 26,
     "metadata": {},
     "output_type": "execute_result"
    }
   ],
   "source": [
    "#Similar to previous, but search kmers not in the main text (uses Neighbors)\n",
    "#output is now a list of strings\n",
    "def MedianString2(dna, k):\n",
    "    kmers = []\n",
    "    median = []\n",
    "    if isinstance(dna, str)==True: #If dna is a string, make it a list\n",
    "        new_dna = []\n",
    "        new_dna.append(dna)\n",
    "        dna = new_dna \n",
    "    distance = len(dna[0])*len(dna) #technically, an entry could poorly match everything\n",
    "    for seq in dna:\n",
    "        for i in range(len(seq)-k+1):\n",
    "            kmers.append(seq[i:i+k]) #make a list of all kmers in the first dna string\n",
    "    kmers = list(set(kmers)) #remove duplicates\n",
    "    kmers2 = []\n",
    "    for i in range(len(kmers)):#add more kmers that are not just in the main text\n",
    "        kmers2.append(kmers[i])\n",
    "        newkmers = Neighbors(kmers[i], k%2+1) #arbitrarily decided on this since no number of mismatches is stated. Essentially, adding things that can over half mismatches.\n",
    "        kmers2.extend(newkmers) #add new kmers to the list\n",
    "    kmers2 = list(set(kmers2)) #remove duplicates\n",
    "    for kmer in kmers2:\n",
    "        if distance > d(kmer, dna): #if the new kmer has a small distance...\n",
    "            distance = d(kmer, dna) #reset the distance to the new min\n",
    "            median = [] #reset the median to get rid of anything that performed worse\n",
    "            median.append(kmer)\n",
    "        elif distance == d(kmer, dna): #if distance is the same, add it to the list so we know there are multiple motifs that perform equally well\n",
    "            median.append(kmer)\n",
    "    return median\n",
    "\n",
    "test = [\"ATA\",\"ACA\",\"AGA\",\"AAT\",\"AAC\"]\n",
    "\n",
    "MedianString2(test, 3)\n",
    "\n",
    "MedianString2(dna, 3)\n",
    "\n",
    "dna = ['TGTTGGAAATATCACGTGGACCCTCTCGTGCAGTGGATATAA',\n",
    " 'TGTCCGCGGCAACACCCTAGTGCCGGAGCCGGATCTGTGCAA',\n",
    " 'TGGGCGTGGACGTACCCTGACCCCCAATTTCGTGAGTATCAA',\n",
    " 'CTTCATAATTATAACCCTATTTTCAGTCACGAGCACCCTAAG',\n",
    " 'TACCCTCCAATACAGGACGTACCTAGGTGCGCGCGCCAGACG',\n",
    " 'TGTATTAACCAAAGATAGTCCCGGTACCCTGCGCGCTCGGCA',\n",
    " 'AACCCTCCACTCCGGAATAATGTTTACATACCCCCTTTAATT',\n",
    " 'CTGCTAGCATAGAGCATTGCTTGTTTGGCTGCCCTACACCCT',\n",
    " 'GTGCAGGGCGTAAGATAGAACCCTGCTACGAGCCGTGGAAAC',\n",
    " 'CAGAACACCCGCGCAAGAGACCCTTCGGTAGGAATCATGCCT']\n",
    "\n",
    "MedianString(dna, 6)\n",
    "MedianString2(dna, 6)"
   ]
  },
  {
   "cell_type": "code",
   "execution_count": 27,
   "metadata": {},
   "outputs": [
    {
     "data": {
      "text/plain": [
       "0.0"
      ]
     },
     "execution_count": 27,
     "metadata": {},
     "output_type": "execute_result"
    }
   ],
   "source": [
    "#Find the likelihood of a certain sequence occuring within a profile of dna strings (probability of each nucleotide at each position)\n",
    "#text is a dna string\n",
    "#profile is a dictionary with keys A, C, G, T and the same number of entries as text\n",
    "#output is an integer\n",
    "def Pr(text, profile):\n",
    "    p=1\n",
    "    for i in range(len(text)):\n",
    "        p=p*profile[text[i]][i]\n",
    "    return p\n",
    "\n",
    "profile = {\n",
    "\n",
    "    'A': [0.2, 0.2, 0.0, 0.0, 0.0, 0.0, 0.9, 0.1, 0.1, 0.1, 0.3, 0.0],\n",
    "    'C': [0.1, 0.6, 0.0, 0.0, 0.0, 0.0, 0.0, 0.4, 0.1, 0.2, 0.4, 0.6],\n",
    "    'G': [0.0, 0.0, 1.0, 1.0, 0.9, 0.9, 0.1, 0.0, 0.0, 0.0, 0.0, 0.0],\n",
    "    'T': [0.7, 0.2, 0.0, 0.0, 0.1, 0.1, 0.0, 0.5, 0.8, 0.7, 0.3, 0.4]\n",
    "}\n",
    "\n",
    "Pr(\"TCGTGGATTTCC\", profile)"
   ]
  },
  {
   "cell_type": "code",
   "execution_count": 33,
   "metadata": {},
   "outputs": [
    {
     "data": {
      "text/plain": [
       "'GCCCAGCCAGAGC'"
      ]
     },
     "execution_count": 33,
     "metadata": {},
     "output_type": "execute_result"
    }
   ],
   "source": [
    "#Identify the most probably kmer from the profile thats in the current text\n",
    "#text is a dna string\n",
    "#k is the length of the motif (integer)\n",
    "#profile is a diciontary with keys A C G T\n",
    "#output is a string of length k\n",
    "def ProfileMostProbableKmer(text, k, profile):\n",
    "    score=-1 #start negative because you want to go as close to 1 as possible, but result could still be 0\n",
    "    pattern=text[0:k] #set first pattern\n",
    "    for i in range(len(text)-k+1): #cycle through the dna string\n",
    "        score2=Pr(text[i:i+k], profile) #get probability of pattern occuring in the text\n",
    "        if score2>score: #if probability is higher than previous, update the threshold\n",
    "            score=score2\n",
    "            pattern=text[i:i+k] #choose the next pattern\n",
    "        if score2==score: #if score is the same, update the pattern\n",
    "            pattern=pattern\n",
    "    return pattern\n",
    "\n",
    "profile = {\n",
    "    'A': [0.2, 0.2, 0.3, 0.2, 0.3],\n",
    "    'C': [0.4, 0.3, 0.1, 0.5, 0.1],\n",
    "    'G': [0.3, 0.3, 0.5, 0.2, 0.4],\n",
    "    'T': [0.1, 0.2, 0.1, 0.1, 0.2]\n",
    "}\n",
    "\n",
    "ProfileMostProbableKmer(\"ACCTGTTTATTGCCTAAGTTCCGAACAAACCCAATATAGCCCGAGGGCCT\",5, profile)\n",
    "\n",
    "text = \"TGCCCGAGCTATCTTATGCGCATCGCATGCGGACCCTTCCCTAGGCTTGTCGCAAGCCATTATCCTGGGCGCTAGTTGCGCGAGTATTGTCAGACCTGATGACGCTGTAAGCTAGCGTGTTCAGCGGCGCGCAATGAGCGGTTTAGATCACAGAATCCTTTGGCGTATTCCTATCCGTTACATCACCTTCCTCACCCCTA\"\n",
    "profile = {\n",
    "    'A': [0.364, 0.333, 0.303, 0.212, 0.121, 0.242],\n",
    "    'C': [0.182, 0.182, 0.212, 0.303, 0.182, 0.303],\n",
    "    'G': [0.121, 0.303, 0.182, 0.273, 0.333, 0.303],\n",
    "    'T': [0.333, 0.182, 0.303, 0.212, 0.364, 0.152]\n",
    "} \n",
    "\n",
    "ProfileMostProbableKmer(text, 6, profile)\n",
    "\n",
    "text = \"CAGCCGAAAGAGAAAGGACCAGAGTGCGCGTAGTCGGGGTTGGGGTATCCTAATTATTATTATCGGAGACATCTGGGCCCGCGCGGGACATCCAAACAGTTTAGTAGGTTTCATCTGTCTGGCCCGCCCAACGGATACGTGGCGCCGACAAACGAGTAGGGACGCGGACTTCTGCTATATCTAGTGGCCGAAATACATAAACCACACCTTGTTAGGGATCGAACCTTAGATGGCAACTGATGGAAAGATATGACTGAGGATGTCACTGGTTGCATCAGGTAGAGTTTTGGGTCGCCGGACGCCTGCGCGGAAGAGGCCGTGGCGACCTGGCGCCGCTTTCTGAACGCTCGTGGATTTTAAAACGTCTTGCCTAAAAGTCTAACATGAAGATGGTATTGGCGCAAACACTGACGAGGCTTAAGAGAATCGGCCCAGCCGGTTATACGGTCGTGATTTCTTCGTTAATTTTTCCTCGTTTTTCTGCAGCCCTGGTGGGTCAGGAAGGTTGGTCCTTAGCGTCATGAATAATGAGCTCCCATTTCGGATGTAAGATTACAATGAGCTGCCCAGCCAGAGCTTAAGAATGGATGGGGTTCCAGGTAGTGACTCCACACAGGACTAATGCAATTTTCCCGACCAGGTTAAGGTGGGATCCGTCAAATAGCTGTCTACCTCGGGACCCACTTTTCTTTAAGTTAGAATCAAGAAAGGTCGCGCAACGGATAGTATAGCCGGCTAGTAGAAAACTGCTAACTTGTCCATGAAGGAATTGCTCTAAGCGAATCATCGAAATATCCGAGGCCCATAAAACCTATAAGAGAAGAGCCTAATCATGCCGCGATTATAAGTCATGTCATGTGCATCTTTACCCTATTCTACCATCCTTAGTAGTATCGGGCATCGCACTCTACTATCGTGTATCCCGAGACCACAACCATTTAGAGTATTTTACACTCCTTAATCTACTCATGCGGCGAAGTAGCGCATGCATACAGGCGGT\"\n",
    "profile = {\n",
    "    'A': [0.224, 0.263, 0.224, 0.197, 0.276, 0.184, 0.316, 0.105, 0.289, 0.263, 0.355, 0.25, 0.197],\n",
    "    'C': [0.224, 0.276, 0.224, 0.25, 0.263, 0.211, 0.263, 0.316, 0.237, 0.197, 0.184, 0.171, 0.289],\n",
    "    'G': [0.303, 0.224, 0.289, 0.263, 0.224, 0.303, 0.211, 0.303, 0.303, 0.329, 0.197, 0.276, 0.237],\n",
    "    'T': [0.25, 0.237, 0.263, 0.289, 0.237, 0.303, 0.211, 0.276, 0.171, 0.211, 0.263, 0.303, 0.276],\n",
    "}\n",
    "\n",
    "ProfileMostProbableKmer(text, 13, profile)"
   ]
  },
  {
   "cell_type": "code",
   "execution_count": 34,
   "metadata": {},
   "outputs": [],
   "source": [
    "#Previous counts had a problem with 0s. Made calculating probability 0 for everything.\n",
    "#This will never leave something as 0.\n",
    "#takes an input of the list of strings motifs\n",
    "#output is an dictionary with counts of occurrences at each position, but instead of lowest value being 0, it's 1\n",
    "def CountWithPseudocounts(motifs):\n",
    "    count = {} # initializing the count dictionary\n",
    "    k = len(motifs[0]) #get the length of each motif row (x axis)\n",
    "    for symbol in \"ACGT\": #Make A C G T a key\n",
    "        count[symbol] = [] #make an empty list for each key\n",
    "        for j in range(k): #for the length of the motif...\n",
    "            count[symbol].append(1) #...for the key, put a one for each position in the list for now\n",
    "    t = len(motifs) #get the number of keys in the dictionary (y axis)\n",
    "    for i in range(t): #for every key...\n",
    "        for j in range(k): #for list position in each key...\n",
    "            symbol = motifs[i][j] #for this specific position for a key...\n",
    "            count[symbol][j] += 1 #Add one every time this position occurs in the matrix at this position\n",
    "    return count"
   ]
  },
  {
   "cell_type": "code",
   "execution_count": 35,
   "metadata": {},
   "outputs": [],
   "source": [
    "#Similar to the previous profile function, but using pseudocounts instead of normal counts\n",
    "#Once again, eliminates 0s\n",
    "#takes an input of the list of strings motifs\n",
    "#Output is a dictionary with keys A C G T with fractions for the probability of occurrence for each nucleotide at a sequence\n",
    "def ProfileWithPseudocounts(motifs):\n",
    "    t = len(motifs)\n",
    "    k = len(motifs[0])\n",
    "    profile = CountWithPseudocounts(motifs)\n",
    "    sub= CountWithPseudocounts(motifs) #setting this twice to make it less confusing for the below math\n",
    "    for symbol in \"ACGT\":\n",
    "        for y in range(k):\n",
    "            profile[symbol][y]=float(sub[symbol][y])/(t+4)\n",
    "    return profile"
   ]
  },
  {
   "cell_type": "code",
   "execution_count": 36,
   "metadata": {},
   "outputs": [],
   "source": [
    "#Identify the most common motif from a list of motifs\n",
    "#motif is a list of strings\n",
    "#returns a string\n",
    "def Consensus(motifs):\n",
    "    k = len(motifs[0])\n",
    "    count = CountWithPseudocounts(motifs) #get a dictionary for how often nucleotide occurs at each position\n",
    "    consensus = \"\"\n",
    "    for j in range(k):\n",
    "        m = 0\n",
    "        frequent_symbol = \"\"\n",
    "        for symbol in \"ACGT\":\n",
    "            if count[symbol][j] > m:\n",
    "                m = count[symbol][j]\n",
    "                frequent_symbol = symbol\n",
    "        consensus += frequent_symbol\n",
    "    return consensus"
   ]
  },
  {
   "cell_type": "code",
   "execution_count": 37,
   "metadata": {},
   "outputs": [],
   "source": [
    "#Score how different a motif is from the consensus sequence\n",
    "#motifs is a list of strings\n",
    "#returns an integer, the higher, the more different from the consensus\n",
    "def Score(motifs):\n",
    "    con = Consensus(motifs)\n",
    "    k = len(motifs[0])\n",
    "    j=len(motifs)\n",
    "    value=0\n",
    "    for x in range(k):\n",
    "        for y in range(j):\n",
    "            if motifs[y][x]!=con[x]:\n",
    "                value+=1\n",
    "    return value"
   ]
  },
  {
   "cell_type": "code",
   "execution_count": 41,
   "metadata": {},
   "outputs": [
    {
     "name": "stdout",
     "output_type": "stream",
     "text": [
      "AGGCTCTCCCTG AGGGCCTCCCTG CGGACCTCCCTG AGGCGCTCCATG GGGATCTCCGTG CGGGTCTCCTTG AGGGCCTCCTTG GGGTTCTCCCTG AGGCTCTCCTTG CGGAACTCCTTG GGGAGCTCCTTG CGGATCTCCGTG GGGGCCTCCATG TGGAGCTCCTTG TGGGCCTCCATG CGGTCCTCCTTG GGGTCCTCCCTG CGGTCCTCCCTG TGGATCTCCTTG GGGACCTCCGTG AGGCTCTCCGTG AGGGGCTCCGTG CGGACCTCCATG GGGGTCTCCTTG GGGCACTCCCTG\n"
     ]
    }
   ],
   "source": [
    "#A slightly faster way to find good motifs, but not without its problems (misses things not in the sequence)\n",
    "#dna is a list of strings\n",
    "#k is an integer for the length of the motif of interest\n",
    "#t is the number of dna strings (I was asked to write it like this, it's really not necessary)\n",
    "#output is a list of strings, all of length k\n",
    "def GreedyMotifSearch(dna, k, t):\n",
    "    best_motifs=[]\n",
    "    for i in range(0, t):\n",
    "        best_motifs.append(dna[i][0:k]) #sets best_motifs to the first three k-mers in each row\n",
    "    n=len(dna[0]) #how long each row is\n",
    "    for i in range(n-k+1): #iterate through each row as a k-mer\n",
    "        motifs=[] #set up an empty motif matrix\n",
    "        motifs.append(dna[0][i:i+k]) #fill motif matrix with k-mer\n",
    "        for j in range(1,t): #go through each row in the matrix\n",
    "            p=ProfileWithPseudocounts(motifs[0:j]) #give a score for each nucleotide for the motif\n",
    "            motifs.append(ProfileMostProbableKmer(dna[j],k,p)) #For the j row, get the motif with the highest score using the profile scores\n",
    "        if Score(motifs) < Score(best_motifs): #If the new kmers score better than the artbitrary ones chosen earlier, set them as the best_motifs\n",
    "            best_motifs=motifs\n",
    "    return best_motifs\n",
    "\n",
    "dna = ['GTACAAGTGAACGGCTGTTTACAGTCGGAGTAGCAGGTCTTCTGTTATTGGCGATGGCCGGTATATACGAAAGGCGAAGCGTGGTGCGATCTCTTTGCCTGTGCTCTCCGAATCCCTAGGGAGCGCAATCATAGGCTCTCCCTGCAAATGGAGCGT',\n",
    " 'TAAACATAAGCCACCGGCTCCCTCTTTAAGCACAGCCCACCGCACAGAACCGATGCGTCCGATGAAATCAGTGACTGGTGGAAGTTAAGAGCTCTAGGCTGTCGACGCGCCTCGCTCTCGGTCCCCCCTTGAAGGGCCTCCCTGTAGTCAGGACAA',\n",
    " 'AAACTCGCTGAGTTTAACTGCGCCGTCGTCTCTGGTTCAGGTGTGCTAAAGCCAGGTCCATTTGGCACTTAGACATGCACTCACATTTTCCTTCTGCGGACCTCCCTGTGGCACTTATAGCAAGAGGATTCACCCGAAGGACCGTCCGGAAAAATA',\n",
    " 'CGGCACCTACACTTTACCCTGGGATGAGTTGCCTCATAATGTGTTGATAATGGCATATAGTCCAAACTGCCCAGGCGCTCCATGCAACTAATCGTGCATCTTTCCCTGTCTCTCCGTGCACGATAGTGTGGAACGGACAGGACGATGCGCTCGAGC',\n",
    " 'GTAGCCCTCCAGAAGACTCCGTTCCAAGTTATCCGATTACCCAGAATTGTACGATAGCTACTCTGCTGCTCCCTTTTCGCGTCCAATGCGATATCGAATGAACCCGGTGGCTACATTACCTAGCCCTCCGAGTGTTTGTTACGTGGGATCTCCGTG',\n",
    " 'TGAAGTAAAAGGCGGGTCTCCTTGACCGATTTAATGGTACTGTAGACGCAAGGGTGAAGCCCTGTGGCCGTAAGCACCCTACGCCAGACGCGGCATTTTGGCGGTTTTCGTTTAGGTTCTAAAACGCAACTAGCTGTTACTAGCTTCATTACAGTG',\n",
    " 'GGGGGTTTCTATCTCTTCAAGTGGCCCTGTTACTCTCCAGAGGTGCGGCAAAGTCATTAACGGGACGGGCTGCATTTCCGTCTGGCTAGCATCTGGTACGGGTGCGGCTACTCAGTGGTCATAGGTTGGGTGCAATTGACCTTTAGGGCCTCCTTG',\n",
    " 'TGCCTATCGGCGCTTCTGGGGAACGGGTTCTCCCTGGCTAATCTGCAGAATGAAAGGTTGCTTTTACAGAATCTTCAAGCCGGGTGCTCCAGCGACAGAAATTTCCGTGAATATCCCATATGATGTACGGTAGTAATGTTCCCCTACTTTGTTCAA',\n",
    " 'TACGATCCGCACCGTTTGGGACCGATCCTGGGTGAGAGCAGGGCTAGTACGCTGCTACCAGGTCCCTTATTCGGCCTCGTCGAACACACTAACAACTAACGTGCCCTACGCCGACTCCTCCATACGGTGTACAGGCTCTCCTTGCTTCCGGAAATC',\n",
    " 'GCCCGAACATCTTACTTAGCAGGTTATCAGCAAAATCGATCACTATAGAAGTTCCTGGTTAAATAGGTTAAAAGGTTCGAGGATAAGGCTTGTAAGAGTTTGCTGCTTCGGAACTCCTTGGGAGAACAGCCGCTCACGGCAAAATAACAGCGAGAT',\n",
    " 'AACTTTCGATTCGATAAGTCCCAGTGTTCGATCGAGCTTGTTTTCAGCGGGAGCTCCTTGGCCCGCAGTGTAAAGCGGTGAGACACCAATCTGTTCCAGCCGAAAAGATGGTAGAAGCGGACTAGGATTGTAGCTTTTCCCATTGAAAATTCGCTT',\n",
    " 'ACTGCGTTTGCCACACCCGATTTATTAGACGGCGGGTAGCAACCGTGGACGAGAAATGAATATATTTTGTCAGAGTAGGGGGCTACTCGCAAATTCTCGCTAAGGCGATGTTCAGTTCCAGTGTCTAGCATCCGTTACCGCAGACGGATCTCCGTG',\n",
    " 'AATATCGCACAACTAGAGCCTCGCTTTAAAAGTCAGTAGAGGACTCCCGGGGCCTCCATGGTCTTAAAGGGATCGTTAGAGTAAAGCACGGTACGCTATAGTGCCCAGGGGGATGGTTTTAAGGGAAAGCAACCCATTTGAGGGTACTAACCGAGC',\n",
    " 'TTTGCTCCATGGCGATGTCTCCACTCGCTTCTCTCTCGACCCTAGGTCCGAAGAGCGGTCTATTCCAAGGAGTGGAGCTCCTTGGTTTCTGGCGCACTTTCTCAAACAAAATATAAGTGCCCTCCCCCGGGCATACGTGAATCTTCTAGAGTATTG',\n",
    " 'TGGGCCTCCATGATTCCGCTTGGCACCGTCAGTGGACTTGAAAGCCAGTGGATCAAGGGGCAAAAAGGTAAAAAGCGTATATGTGGTGAGATATTTTCTTAAAACACACTTTTGTCTACAAAGACTACGGAAATTATCTGGGTCCTCTGGAGATCA',\n",
    " 'TTCTTCAGGGGAATCGAGGCGCACCGGTCCTCCTTGGTTTCGCTAGACGCGACGGGTTGTCCCTTGAGGTGCAGAGAGCATCCACTCCAGGACGACCCCGGTTTAGGCTAGTATAAACTTGAGAAGCAATGACATACATGACAAGCGTAGCGCCTG',\n",
    " 'GGGTCCTCCCTGGTCTTGCACGAAGTACCAGTTATGTGCTAACGTGGCAATAGGTCCGGGCCATACGTGCTTAACATATTAATTAGGGATGTTAACGGTACGAACAAGCGAGCAGCATATGACGCCTTCTTCGGGAACTTTTATACAGTGCAGCTG',\n",
    " 'CGGTCCTCCCTGTTGGGTGTCGTTCTGCTGGATTAGGCATGGACGTCCCATCGCAAGCGCAGGCTATGGTCTTCACTCGGTAAGGTACCGGCTCCCAACACTAGACAGAGTCACCTAGAGTAGAATCGCGACCGTTGAAGCGCCGAGTTTTTTACT',\n",
    " 'GATTGCCAAATGGGTTGGCCCTTATTGAGTGCAAAGATACCCATCACTTTCAGTATGCGTTGGATCTCCTTGATGACTTAGAGAGAGCTTGGCTAACGTTACTTAACTGTAAACGATCACCCTGGGACCCAAATCATGTACGAAATATACGCGATA',\n",
    " 'GTAAAAGAGAGCGGACGCCGTATGTTCATCATCGCGGGGACCTCCGTGTAATGTAAGCGTAAAAAGGTCGGGGTTCCCCTTCAAGCTGTATTTTCATGGAGAGCCTTCGGTATGGGGTTATGACGAGTACGGAGCATCCGAATGCTTAATGGAGTC',\n",
    " 'AGGAACACTGCGAGATCGTCTATTAGGACCGGACTGTACCTAGGGATAGTTTGTATGATACAGAGGGTCCTAGACGGATATGGGTCTGGCAATCCTAGGCTCTCCGTGGGTCACCGTGGTATAATCTTTAGGCATGACATCCCTTCCGATCCCGCC',\n",
    " 'GCTTGTGCACGACCGTTACGTGAATAGCCGAGTGTGTGTGGCACTGTTATAGCTTATGTACAATTCCTTATTTATACAGCCGCACGACTAGCAGACGTCCTTCCATACAGGGGCTCCGTGGGTGAGTGTTAGGAAGCTGACATAAGGGTAGTATCT',\n",
    " 'TTATTACTTCGCATGGTCTCAATGGAGACTGGAAACGAGAACCGCATTCAAACTTAGTTTCACGGTGGAGTGTAACCCCACTAAGTGCATCCTGTCATATATGCATATCGGACCTCCATGCCGTCAGCACTTGTCGGACAGGATTTAGTGGTAGCC',\n",
    " 'GGGGTCTCCTTGTGGGGATAAACCATAGGCAGTCGAGCAACATAACCTCTTGGCTATGATATATGTTTAGACAACTGTTGCCCCTAATGCTGGTCCCATTCAAAAGTGTATGAATCGGCTAAAATTAGTCAGGCTGTCGATTACTACCCGTAGAGA',\n",
    " 'CTCGCCTCTGTCTAGACCCCTTATCGTCCTACTATAGGCATCTCGATCTCCTGGAGGAGAGAATTACTATTCTATGTATCGGGAGGATAAAGGTAATTCACCACACTTCGTCAATTGGACGGGCACTCCCTGATGGTTTGAACCACACTCATGTGA']\n",
    "\n",
    "text = GreedyMotifSearch(dna, 12, 25)\n",
    "print(*text, sep=\" \")"
   ]
  },
  {
   "cell_type": "code",
   "execution_count": 42,
   "metadata": {},
   "outputs": [
    {
     "name": "stdout",
     "output_type": "stream",
     "text": [
      "CACATGCTAGTT GAGACTCTAGTT CAAAGGCTAGTT AATAATCTAGTT GACACACTAGTT CACAACCTAGTT TATAACCTAGTT AACACACTAGTT CAAAGCCTAGTT GAAAACCTAGTT GAGAGTCTAGTT TACATACTAGTT AAAACTCTAGTT TAGATTCTAGTT GAAAAGCTAGTT CATATACTAGTT AAGACGCTAGTT GACAGTCTAGTT TAGATGCTAGTT AAAAGCCTAGTT AACAACCTAGTT GACATTCTAGTT CAAAACCTAGTT AAGAAACTAGTT GAGACTCTAGTT\n"
     ]
    }
   ],
   "source": [
    "text = ['GAGCCCCATTCCGCGCGATGCTCCTTACCGAGGGTTTCGCGAAAGGCTCACATGCTAGTTAGTTCGGCGAAGACAGCTGTGGGAGTTATCCGGCCCCTGTGCCCTAAGCAGTTTTGGATTACTGTCCGATTGATGCGCAGCTCAGACTCTTAGTCT',\n",
    " 'TCACGGCCTGTGTTGATCGGTCCTAGAGTACAAGTACACCATACGAAAGAATACGTCCGTGCAGGCGGAACGCCATGTGTTAAATGCCCTGAAGATGTAATAAGGGAGGAGACTCTAGTTCCCTGCCACATACCCAACGTAACCAGTAGTTCCAAA',\n",
    " 'ATTCCCCGAGTCGTTTCTAAAGACCGCACGTTAATTCGCGAGGGGAGAACTAGATAATGCAGCGAAACGGCGAACGCGCTAGAAGTTGAAGGTACCCCAGCCAGCGGTAACATATAAAGAATGTAATATCGTCTTACTCTCAGGCAAAGGCTAGTT',\n",
    " 'GAGAAAAGAATATGACGCCCCTTACCGGGCGCAATATTGACCGTGTATGAAAAAACCCTTTTCGTGGTGAAGAATAATCTAGTTCCCCCACTGGTTGGACCGCTTGTGGTATGTGACTTGGAACTGTTGTAAGCGAAGTTTGAGGATTGCAGCTGG',\n",
    " 'AAACCCTATCAAGGAAGTTGATACGCGACGAAGGCGATCGGGTAATCAAGACCGCGCCTTCGCTCATGATATTAACGCCGAAGCCAATCGGGTAGCGGTCACAATGTACGCACTTGGTGAGACACACTAGTTTTGAGTCAACTATAGTCGGTCTTA',\n",
    " 'CTGAAAGCTCGTCACAACCTAGTTGGAGTATAATATACTGGAGCCGACGGGTCTGTAAGGTTGGTACGTCCCGCGACGCCAGCTTCATTCGGACTTTCCTTCGAACTAACATTACACTTCAGGGGAATTAGCCAGGAATTCGCGACGGGAGCACGA',\n",
    " 'TATAACCTAGTTGTTGCTTTACAGTTGAGGCCCTTTAACCCTAAGCCACCGGTGCACGTGTGAATGTTGCACTTCGTTTGAGGTCGCCTACGAAACCATGGTTAGAATGAGAAGAGAAACGAGTAGTGTTGGGCTTACTCGGTGCTGAGGTAGGGG',\n",
    " 'AGCCTTATGTGTCACGCTCACGTCTAAAATTTCCGTACAGGCATCGCGCTGTACTGAAACCTTGCAGACAACAACACACTAGTTTATGCAGGCTGCCGCAGCTCTCCATGGTGGCGCTTGACTAGTGCCATGTCACGGGGTATGGTCCTCCTATGT',\n",
    " 'AACAGGCAGTCTCTTTCTCTATCGTCAAGCTGAAGACCAACTGGGCCGCCAGTTACAAGATTATGCGGGCTCGTGTTGACATTAGGATAGTAACCGTTCTACGTAGGTCAAAGCCTAGTTGCAATCACATTCGCCGCACCCTATCACTGTGGGCGA',\n",
    " 'TCATATGTCTCCGCGATCGCCGGCTTGTCGTCCTACGAGAAAAACTTTGAAAACCTAGTTGGCAGAACGCAGAGGTATCACATGGGTACCACCAAGAATAGACGGTTCAGAAAGCGGCAGAAGGGGTCTTATGCAATGTAAAACGGCGAGGTTTTG',\n",
    " 'TAATGCGGAAGTCTGGTTTACCAACGTAGTCGTCGCCCGACCGCCGCGCCGTTACTACAAGAGAGTCTAGTTATAACGCTGACTTTCACCGAACTATCTGGCTGTGGAATGTCTCAGCCTTCCTCGGGAGTGTCTCGACCTTTAGGGAACGACTAA',\n",
    " 'GCCCGCGTGCCAACCAGAGGTTTGTCGCGGTCCTCGCAATTGAGGAATACTGCATACTACTACATACTAGTTTGCTCTCCTCTAGGAAAGCTTGGCTTTCAGGTGCGCTAAGCGCCACTGAGTCATTAACCCAGCCACGAAGACCCTTTAAGGTGG',\n",
    " 'AGACACTATTATCTGCACTCAAGTTGGAAATACTGGGCTCGAACTAACAAAACTCTAGTTTGTCACGTGTTTTCGGCCTAGCGGATCATTCAAGATTACGAATCAAGTATCTGATATGCCCAATGGTTATCTCAGTCAAAACATGACGAGTGGCAG',\n",
    " 'TCACTAGAGGCTTAGATTCTAGTTACTTAGTAGTAAAGTGAGCCTATAGGGTAAGGTCCAGCCGCATTGTTTGTTCGAACCGAGCACGCTCTCGAGTATGGGTGGACGTCCTCACGGTCGCTGTGTCGAACAAAAGCAGGTAATCTCGATTTCCCA',\n",
    " 'GGACTTGGAACTTTTACTGCGGCAATGTAATATATGTGGATTTCGGATAGTATGACAAAGGTACATTCGATAGAAAAGCTAGTTGACTAAAACATTTTGGCAGCGATATAGGATCTTAGATTCGCTTTAACTATATAACAAGCGTATCTTTTATGT',\n",
    " 'GCTTGGGAGGGCTATATCTAAAAACCCATATGGTTTCATATACTAGTTGAGTATCCTAAGCGGTTTTTCTCATCATGGTTCTTTTGGCCCTTAAACCGTGGTGGTCAGTACTCGGATAAATCTTACGAATGACCGCGCTCCCAGATAACGCGAGTG',\n",
    " 'AAGACGCTAGTTGGATTAAGCACACTTCTTGGAGCTCGCCCAACGCGATCAGAGCGTTCCCTAGCGTACGAGGGGACAGACGCTGCCGGCGAGTCGGAATTGTCCCCTTTGTAAAACCCAATCGACCTCTACACGGCGCCTAAGAGCGTTCCTACG',\n",
    " 'GAGCATACTGTTGCCCCACTAGAACCTTGATAACCGCCACAAATTATGGGCGGCTGAGTGCGAGTCTGGGGAAGTAACCAGCCTCCACATCGCTGTGACAGTCTAGTTGAGCGTCTGTGGCCATATTGGTTGGTCTGGTGCGCGAGAGACACCGTG',\n",
    " 'GAGTGGACACAAACTTCCGTTCCAACGACGAGATGGGTGTCTGGCACCTAGATGCTAGTTGTAGCTCTACGGATTACCCGTCCTACTAGCTCTTAATTAATTCCAGTGCGGCCACTGATGACACTAGGATGTACGCGGTTGACGGTACAAGCTATA',\n",
    " 'TGTGATACTTCCATTGTACAGAATAAGTAGTTAGTTTGAGCCACTTCGTGGAGTTACGTAAAAAGCCTAGTTACTTAGGGCGGCAGAGTCCAGAGTATCATCGTTGATATATTAGAACGTGTTACGATTCCTCCGATGAGACAGGTCTTGGAACGG',\n",
    " 'CTCCCGTCGAGGTCCGCGAGGTCGGGATCGAGCAAGCAACTGCCTAACACAATAGTATCGACACGAGATAACTGTTCCCGTAAAATCCCAACAGAACGAATCCCCTGGCGCTCAGCGTCCGTCGACGACCTGAGTCTAGTCCTAAACAACCTAGTT',\n",
    " 'CCGGTCACGAGTAGCGATAAAGCGTTAATCTGGTAATCATCTTCAAGTACTCACCGTCCTGACATTCTAGTTTGCGGCAAGTCAGCTACCCGAAGGAAATGTACTATGGGAAGATGCCGATATTCCGGTCGAAACACCGCCAGTACTATCACTCAA',\n",
    " 'TGCGGACATGGTAGCCCACAGAAACAACCTGACCTGCCTAGCTTGACTGGAAATTGTCATCAAAACCTAGTTGTTCGATATGGATTCAACAAGTAGGAGGTGAGAGGAGACCCGAAAAGCCCGGTTCCAACGTCGTTGGACAAACAATCGGTGCGT',\n",
    " 'CACACCACTGTACGTTATCCCTGCCTGTTCACATAGGCGTATACCCGATCGAGCCACTCAGTCGCTCCCGGGCGAATGGTCGGTGATGACCACACCGTCGATGCAGTAAGTGGAACTGACCGAAGGTGGAGGAAGAAACTAGTTGGAAGTCGCATG',\n",
    " 'TAGTACTCCGTAGTCGACGAGCCGGAGACTCTAGTTTTCCAACTAGAATTCCTGCGGAGTCCACAATCATTTGGTACCAGAATCTAGAGCAGACCTCCATTAAAATCTAACGGATCGCATATGAATGGTTTGCGTACCGCTAACAACCATATAGGG']\n",
    "\n",
    "res = GreedyMotifSearch(text, 12, 25)\n",
    "print(*res, sep=\" \")"
   ]
  },
  {
   "cell_type": "code",
   "execution_count": 44,
   "metadata": {},
   "outputs": [
    {
     "name": "stdout",
     "output_type": "stream",
     "text": [
      "TTC ATC TTC ATC TTC\n"
     ]
    }
   ],
   "source": [
    "text = [\"GGCGTTCAGGCA\",\n",
    "\"AAGAATCAGTCA\",\n",
    "\"CAAGGAGTTCGC\",\n",
    "\"CACGTCAATCAC\",\n",
    "\"CAATAATATTCG\"]\n",
    "\n",
    "ans = GreedyMotifSearch(text, 3, 5)\n",
    "print(*ans, sep=\" \")"
   ]
  },
  {
   "cell_type": "code",
   "execution_count": 45,
   "metadata": {},
   "outputs": [
    {
     "name": "stdout",
     "output_type": "stream",
     "text": [
      "GTGGGTATCTCG GTCGATATCTCG GTTGATATCTCG GTAGGTATCTCT GTGGATATCGCT GTCGTTATCCCA GTAGATATCCCT GTGGTTATCACG GTGGTTATCCCA GTGGCTATCGCC GTGGATATCCCT GTCGTTATCACA GTTGGTATCACT GTTGATATCTCT GTAGGTATCACC GTGGCTATCGCT GTGGGTATCTCA GTCGATATCGCT GTTGATATCTCC GTTGGTATCACC GTAGGTATCACT GTCGTTATCCCG GTGGTTATCACG GTGGTTATCACC GTTGTTATCGCA\n"
     ]
    }
   ],
   "source": [
    "text = ['GATGGACCGGGCCATACATGGTGACACGCATCAGAAAGCTGTCCCCGTGCCTTATGCGCTGTCTGTTAGTACATCTCTCTCAATGGCCGTATTTTCAGAACAAGTATCACTTGGATCATCATCTACTCGACGGAGGGCGCGCAAGTGGGTATCTCG',\n",
    "'TAAAAAGGTATAAGGGAGTCATATCCGCAGTCCTAGTGACCTTTCCCGGCCCTAGCAGTGCTCCGATAGCCCATGGATGAGACGTAACTCGGCTACTGTTTGTGACTCAAGATAGTTGCCGTCGATATCTCGGATTCTGCTTATCGTGTTACGAGC',\n",
    "'AACCACGAGTACCTCTGTCGTGGTCCTTCACCAGGACTCGAAATTTGGCTCACGCCCAACGCCAAGATTACGTCGATCGTTCCTGTTGATATCTCGCCGCATATCAGGTTTATACTGATCGGCTCAGTGATTGTTAATCATCGGCGCGGGTTGTCA',\n",
    "'TGTCATGTGCGGATACAGTGGTGACACCAGGTCACCTCCGACCTAAAAGCGTTCAAGGTATGGCCCGAAGAGGTAGGTATCTCTTGTGCCCGCTGCTGCTATCACTCCCTGTGAGCCCCGACACGAATGTTAAACCAGTTTATATTCGCTCGTCAT',\n",
    "'AACCTAAACCCTTGCTTCCCACCATCCCTGCGAAGCAACCTTATCCGTAGTTCAGTCGCGCTGAACTCGGAAAGTGCGCTCACGAGATTCTAACTTACACTTGTTTAAGTACCACGTCCGGTGGATATCGCTGGCGTTGAAGGATAGTTCTGGTTA',\n",
    "'GTGCCCGATATGCCCGTCAGGGTTGAAGTCTGGGAAGTCGTTATCCCAAACGAAATACCCCGTTCGCAGGCGTGATGTATATCCTGATTAGTACCGCGTATAATATTAGTTTCGCACAGGAGCGTGCTTGTTTTGGGTCATGGATTGGGTACAGCA',\n",
    "'TAGTCTTCGAGGCATCTACCTGCGACCGAGCTTGCGATCCAAAAGCATACCCATGAAGTTTGCAAATCTTTCTTAGAGCTACAGGTAGATATCCCTGGGCCGGTAACTAGTAATATGTACAGTTTAGTTGTCCTGTACAATACTGATTGGAGTCAG',\n",
    "'AGGAGACGTGTTTGGTAGGCGCTCGACCCTTACCCCCCTATCTCGACTGGCATTGGACGTCCTCAGACTGGTGGATTTGACCTAGTGGTTATCACGCACATGGGAGAACCCGGTCAGAATACATCCTGTTACAGTCAGACGCCGGGTCATTCGCAA',\n",
    "'TGTGGGGATCGTCTGATTCATCGACGTCATGGAAACGGGGACGGGCCAGTGGTTATCCCATGCTGCCTTTTAGGAATTCTAGGAGGCGTTCCTAAATAGCTCGCCCGACGATATCCTACTTGATTGTGGCGGTATACCTTGCTGAACCTCGCAGTA',\n",
    "'CGCAGTGCACTAGTGGCTATCGCCTTTCTATCCCTGAGGCGTTTGCGTTATAAGATCACTCTGTCGGTGTGAAACCACTGAGTCACACTGACCGGTCGACTGGCCCGTCATATGCAAGTTGAAACGCTTACTGCCGGGTATCGCTCTAAGCTCGAC',\n",
    "'TACTCGTAACTTCAAAATCTCGTAGGGTCTGCAGAGTAAGAATCCCGGATACTTCAACATTATCGATTCGTCAAGACGTGCGGAGTGGATATCCCTTATTCCTATACGTCACAAGCCGCGGTCAAGTCGCTTACGCACGGTAGAGCGGGAAACCCT',\n",
    "'GCTCTAGTACGCCACAGTGCCAGTACATGACCTCACGAGCCGCCACTTACGTTGATATGTTATAAATCACTAGTTTCGTTGGTACAAACAATAAGTGAGAAGCAATGAGCAACTTATCTCATAAAAAGTGTGGTCGTTATCACACATGACATAAAC',\n",
    "'GAGACGGTCGTAGAAATTTGCGCTTGCTCGTATCTCAGTATCCTTCAAAGATTGAACCGGATCGCGGCGGCTAATATTGAAATCCTTAGACTTAACGTTGGTATCACTTTAGAATTTCTGACTTGAGGGTAGTGACTAGACAATCATGATGGAAGA',\n",
    "'GATCGGTGGCAGTTGAATTAAGACTAGTTATCCCCTGCTTACACTTTTTCCGCCCGGACACGTGTGACGGTAGTTGATATCTCTCAAGTATCCCGACTTCACGTACGATGCCACCCATCTCCGGCAAACACACTTCTATAATATCGTGGAGCCGAA',\n",
    "'GTAGGTATCACCAGAGTTCTCTCGGTATGTGGCGCTAAAACCTCTTAGAGTATGAAGGGTGAAGACCAAGCTCATACCACCCCTATATAGGGCTAATTAATTCCACATCCAGGCAAGATGTCACCCTACAGGTCGCTCACTTGTGGAGAACATCAC',\n",
    "'GTGGCTATCGCTGTGATCCGTCACACAAAATCAACTTTGTAGTATTTTGGGTAGTCGGGATAACGCGTGGTCTAAGGTGAGCTGCCTTTGATCCGTTGGGTGGCTACCTTGCAAGTTACCGGCTTGTCACTAGATATAACCGGAAGTCTCTGCAAA',\n",
    "'TGAGCAGACCCGACAAAGGCCATGACTTCAAAACCGGTTGTGCAGCGACAGGTACTTTAAGTACGGCACCATTAATATCGCTATACTTACGAGTTAGTGGGTATCTCATGCAAACAAACTGCTACTAGGAACTTAGACGAACTTACCAGGAGGATT',\n",
    "'AGTGATCTGAGCATAGTATACTGAGAACGTGTGTGTGACCCCTCCAGCGTCCCCGGCTACTGTTCCAGATCCTAACTAATTACTGCTAGCGATCTGGTCGATATCGCTACGGAACGAAGCCGTACAATCGCCCAGAAGCGGTTAGTCAAGGGCGTT',\n",
    "'CAAAATGGGAGTACTTCTCGTAGAATAATTCGTCTGTAATTCCTAGGTTCCATAGATAGGCCTCGATAGTGAAATTCCTTCATGCCCCGAGGTGGCGTTGATATCTCCTTTCTAAGCGGTACCCTTAAGAGTACTCGCGATGGGCTTATCCTCCTC',\n",
    "'GTTGGTATCACCCCCAATCCTCTTAGTTTACACTGTAAGATTAACGTCAGGGTGTTGTGGATGGCTTTTCTAATTTAGGTCCTCGGGATGCTCAGGTGTTACTATCGGACTGAGTGAATGTAAGTCCGGGTATCAGCCATGAAACCACTGGAGATC',\n",
    "'CCTCGGAAAACGTCGTAAGTGGTATCACAATCCACTAGTCACGGAGGGCGGTGAGTGTCTCGATGCTCAACCCCCAACCCTCAGATGAGGCTATCTGTAGGTATCACTTACGTCACTACGGGGAACAGCTCGCCTTAAGTGTAGGCTAGGTATATG',\n",
    "'GGCGGCTCCATCCGATGTGACGGATTTCATGAGGCACAAGCGCTTCACTCCCTATTTGGCTCGTGACAAAGTTCAACGGCTTTGCAGATATCCATGGTCGTTATCCCGGTGGTGAACCTACCGTCAAGTCTCTACAGTGCGCGAAGTGTCCCGGGC',\n",
    "'TACTAGTATAAGTTCCGAGCCAAATGGATGGCCCAGGCGCACTAGTGTTAGAAGGATTCGGGCTGTAGGTACATCAAGCTCGAATTTGTCCCACGTCATTCTGGGCCACCCGGACCACAGAAGACCTCTCTCTGTGCCGACGGTGTGGTTATCACG',\n",
    "'GTGGTTATCACCGGGATCGAATACAGATACGTCTGGTACATGCCTTGTCATTATTCATACGCCCCCTGGGCCAACAATCCTTTGTCAACCGCGGTCAAAAAGGTAACTAGGATCGGCTTGATCTCTAATTCCGGACTGTTCACCACGGGTCGACCG',\n",
    "'CATCACGCAATGCGAACGACTGAAGAAGGCAAGGACAGTTACGCAACCTATCATGCGTAGATCAAGGTAATCGGGACCGGTCTGGAATTTAGGAGTGTTGTTATCGCAACCTGCGATCATAACATCCTCTTATTGCCTATAAACCGACCCTGACCG']\n",
    "\n",
    "ans = GreedyMotifSearch(text, 12, 25)\n",
    "print(*ans, sep=\" \")"
   ]
  },
  {
   "cell_type": "code",
   "execution_count": 46,
   "metadata": {},
   "outputs": [
    {
     "name": "stdout",
     "output_type": "stream",
     "text": [
      "GATGTTGGAGAG GATGGTGGAGAC GAAGTTGGAGAA GACGTTCGAGAT GATGGTGGAGAT GACGATAGAGAT GAAGCTAGAGAT GAGGGTCGAGAG GAAGATGGAGAA GATGGTCGAGAA GACGCTTGAGAA GATGATGGAGAG GACGTTAGAGAT GATGATTGAGAC GATGTTTGAGAT GACGGTCGAGAA GACGCTAGAGAC GAAGATAGAGAG GAAGTTCGAGAG GAAGATAGAGAC GAGGTTCGAGAT GAGGATGGAGAT GAGGTTGGAGAG GAGGCTAGAGAA GACGGTAGAGAA\n"
     ]
    }
   ],
   "source": [
    "text = ['AACAAAAGAGATGCCATTCAGGGGAAATCCCCCAATAGCCTGGTTGTCAACTGTGATCTCGATGTTGGAGAGTGCTGTGGCGAGGAAAGATCCCTAATAACGTATTGTCCCCTCCCTGCAACGCCGGTCAAATGGGCCCCCGCGTCAGCCCCTGGC',\n",
    "'GATGGTGGAGACGACTAGGGCATTCAACTCACTGGTACTGGCCACCATGCATGGAAATACTATGTGGGGAGGCTGGACGAAGTATTCGTGACTTTCCCTCGTCTATGGGTCTCCAGGTAAACAGTGTCTACGACAGATCGGGCCTTGGTTGTGGGT',\n",
    "'ACGCGCCAGACGACTTTTTACTATAGCGGGCTTATCTGAGTGTCCGAAGAAGTTGGAGAACGCTTGTGAGAGTAACAAGATATCGTTCCGAACTTAACCAGGTCCTCATTTGCACGTTAGACACGCATCTCCACCAAACCTCTTGAGTAATAACTA',\n",
    "'GACGTTCGAGATGTCACGATTAATTAAGCGACTCGCAACGGAAGACCAAGGAGAATTGACAATAACACTGATCACACTGGCTTCTCTTGTTAGGACTGAAGATAGACTGCTAACTGAATAGGCTAAATTCCCGTCGGCGGGCGTGTAGCGACGACT',\n",
    "'GATGGTGGAGATCGGACCGGTACCCGCCAGTATGGAAGTATTCCCCACTGACCGGACCACAATCACAGTCTGTTATCACGTAGCTTTTGAGCGGAAGAGAAGAACTGTTTAGGACTATTTTGCTGCTGACGCTAGAATTACTCGATTACCGGAACT',\n",
    "'CTTACAAATGAGTCCATGAACTACATATTCCGATGGGACCGTGTATCACTCGGCTATTCGAAGACGTACCTTGACGATAGAGATTACCAGGCGAGTCCATGTACAGGTAAAGAGGCCCTAATCCCGGCCTGGACTCGGCCTTCACCGAGGGATCAT',\n",
    "'CGGTAGTTTCTAGAAGCTAGAGATCCCACTCCATAGGTAAAATCGATCGCGGGTTCACAAACTTGCTACTACGATGATCCGGTTAGCCATAGCGACTGCTTAAAGTAGGGCTCTGCCCGTCCGCTTAAATTCACAGTACATGCGAGAGTCCCACCT',\n",
    "'AACGCCGGGGATTGTCTCAACGAAATCTCATAACACTTTGCCTGAACTACCGGCTGACTGTTTAGGGGCCATTATCAAGCCCACGTATTAGCACGTACAAACCTAGAGGAGGGTCGAGAGTGCTCAGAGTACGTCATAACGTTTCCCTCCACAGTG',\n",
    "'TTCCTATTAACGTGGCGGGAAAGACAATAAGTAATCGTTTGGATATTCGCTGTCGAATTTGAAGATGGAGAATGATCCGAGCTATTTACCCCTGGCGTTAGACCCTCAACGGGCCCATTTCGTTCGAACGTGTTTATGGGACGATTTATGTACTCC',\n",
    "'GCCCCGCGAAGATGATCACCCATCAGCAAGGTTCGTCTCTGAAGAGCTCGGCATACTTAGCTTTTTTTTAGCGATGGTCGAGAACTTCTAGTGATGAGCGCAGATCATTTGTGGCCCACCTCGTCTTGAAGTGTCCCGTTTGGTTACCGCCAGGGA',\n",
    "'ACCACATGCGAGAGCGTGTAGCTAGACGCTTGAGAACTTCCCGTATATCTTACATCCCCTAGACGCATACGATTTGTGACCTAACATTTAGCCGACAGAAGAACATCGATGATGCCGTACCTCGAATCTCAGACTGTGTATTACGAAGCGAGGCGC',\n",
    "'GACCAATACGTCTTGTTCATCTCGAGCGTCTGGCCCCTGTGACCGACGTTATGTGTTCATGATGATGGAGAGAGACAGTTACGTGCGACGGTAGAGTCGGTCAAATGCGTTATCACACGCGAGCCATTACGTTGCCACACTTCCTTTGTCGGTCAA',\n",
    "'CTCAGGGGCGCGTCCGTGTGGCAGTTGCCGAGACTTCCAGCATGTGTAGATAGTGCCTCCTGGTATGTGGGGTGTTCCATATCCGACGTTAGAGATAAATACTCCCAAGGCCCGTCCGGGCTATTGATTCATCCGTGCTCAGGGATTTGAGAGGGA',\n",
    "'GATGATTGAGACACACAAGGTGCGCATGCCGTTAGGGGAAGACTGGTATTCTCTCGACGACCCGTAGGCGACGGCTCGGATTCAGAACTACAAATACACATAAGATCCTCATTTACACGGCTGTCAAATGTGACCCTTTTCCGCCGTCTGCTGTCA',\n",
    "'GATGTTTGAGATCTTACACCCAATTCCCGGGACAGAGGTTATGTGCCCAGTGAAGCCTAGGAATATACGTCTATTATATTCCTCCTTGAATACCATCTTGTCACGGGTACACACCGACGGTCTCTGTGTCCTGCGTACTAGTCTCGTGAGACTCTA',\n",
    "'GCGTCTTCACAGATTGCGCATCGGTCAGAACACGGAGACGGTCGAGAAGAAGGAGCGAATTCACTCTGTATAATGCCTATACGCGATCTTTCTGTTAACGGGAGGATGTTTGCTATACCTATAGCGCCTGGGAAGGACATGATTATGTTGGACAAA',\n",
    "'TGCGAAGATCAGACAAGCAGCTGCGCTCGATAGGGTGGGCCCAAACGGATCTTCATTACGCCTTAAGCAGAACAAGTATTTTCGTGAAAACGGTTGTTACACGATGTCGCTCGCTGCCGCAACGGCGATAAGACGTTTGTGCTGGACGCTAGAGAC',\n",
    "'ATGAGATCGGATCTTTTTCACTGGGATCCATCTCCTTCTTGGATTTATGTAGGCTTAGTATTGTGATTCCCTAGCTAGTCTTATAAGCGACGTCCGTGTCAGGCGTCGGCTCTTTATTGTATAGGCCCGCGTGAAGATAGAGAGACAGTTCAGTGT',\n",
    "'TTCTGAGGCACGGACCCAGGGTCACCATAGCTTATAGGGACCGAAATAGAAGTTCGAGAGAGCCCTGCATCTCCTAGGAATAGATGCACAATTTCGCCTGCTTGTTAGGAGCTTTAACGACCTTCCCAAGTGGAGTCGGTCGTAGAGTACCGACAC',\n",
    "'ATAGTACTAGTTTCTGAGTGGCCGTATTGCCGTGCAACATGTTAGATAGAAGATAGAGACAATGGTGGAAATTACGGACTGAAACAGGGACTATCAGTATAGTTGTTAGTCCAGTCATAGGCTGCTTTGAGATGCATTCATCGACCGGCGGCGGTT',\n",
    "'TTTAATCCGAACTATCTCAAAGCTGAGGTTCGAGATCGACTATGAGAACACCTTAATTCGTGGTGTCCATTAAAGCACCAACAACCGGAGATACCTGAAAAATGTCTGTTCATGCCTCGGATTCCGGATACTCCCTTTTATAAGACTGCCGCTCTC',\n",
    "'GTACCACAGTGGCTCCGTTACCTCGAGGATGGAGATTCCCAAACAGTTTCAGAACGCGAGCGAGGCGAGACTCCAAGAGCAATAGTTGCCTCCCGTCGTTAAAATGCAATGGTAAACCAAAGTATATAGAGACTGTATATGTACTCTGTTTTGAAT',\n",
    "'GCAACTTAGATCCGTCTGCAGGCGGAGGTTGGAGAGTTGGGCCTGGGATAAGGCTGCTCTCAGCGTGGGTGCGGCGGGTAGCAGGGATCCGTATACTGCATTAGTATTGATCATATGCTAACATCCCTGCGAATAATAACTCCACCGTCATAGGCT',\n",
    "'GAGGCTAGAGAATTGAACTAAAGCGTCCTTCGCGTGTACCTGATAAAGCCCAGTCCGACGCCCGCGCAGTTGGCACGACGGGCACATTAGAAAAGGCAAATGTGTACATCGGCTTGTTATGTGAACCCTATGCGGCTTCCTGTTTGAAATCCCCTT',\n",
    "'ATCTATGAATTGAGCCTTTACGTATGACGGAATCAGGTACAGGCACCCAACCACTGCATACAGTATCTGACTAATGTCTGGCAGTCACTTCTTACTGACGGTAGAGAAGACCACAAGTCAAGATTGGAACATCGAGAATACTTAGGGATTCAGCAA']\n",
    "\n",
    "ans = GreedyMotifSearch(text, 12, 25)\n",
    "print(*ans, sep=\" \")"
   ]
  },
  {
   "cell_type": "code",
   "execution_count": 50,
   "metadata": {},
   "outputs": [
    {
     "name": "stdout",
     "output_type": "stream",
     "text": [
      "GGTTACGCCCAT GGATACGCCCTT GGGGACGCCCCT GGCCACGCGCCT GGACACGCGCGT GGCAACGCGCCT GGATACGCCCTT GGCAACGCTCCT GGGCACGCACGT GGAAACGCACAT GGCTACGCCCCT GGGCACGCTCTT GGCTACGCGCTT GGTCACGCCCTT GGAAACGCTCGT GGAGACGCCCTT GGAAACGCTCGT GGAGACGCGCGT GGCGACGCACAT GGCCACGCACCT GGTTACGCCCAT GGTTACGCACGT GGCTACGCGCAT GGGAACGCCCCT GGGTACGCACTT\n"
     ]
    }
   ],
   "source": [
    "text = ['TATAACTGATGCGGTTACGCCCATCCCAATCTACTGTCGCAGATAGCGCGGTACGTTGGGTTTCAATTTGACCACATCGCCTGAGGCACTTGTAGCTTCACAGGTATCTCTATGTTCCCCTCTAGCTACCGAGCACCTGACCGAGGCATGCGAAAG',\n",
    "'CCACGTGCTTGTTATCGTGAGATCCGAGTGGTTACCGTGGCTCTAGTATGGTGAGAGTAGGGATACGCCCTTAGGTTGCACGCAACTTACCCGGCAGTCAACAAGTCATCACGTCCACGATGAAGTAGTTTGATCATCTTACGAAGTTGTGGTGGC',\n",
    "'AGAGTGCGGGACCAGCCCTCTCCATTACTATGCTGAGGGGACGCCCCTCCTCGTAAGTTAAGGAAATGCGGAGACAGACGATAATCAGTTTGAGATTAGGTGCTATACGGGTCATGCCGCGTAGGACACGAACATGTAGACCCAAAAACATGTGTA',\n",
    "'CGAGCGGATGACGAGGGAGGCCTGGAGATAGAAAATACCGTAAGTATGGACTATGTGGGTGGCCACGCGCCTTAGTTGGAGCTCGGATTCTCTGTTGAATAGCTGAAACCACTCGGGATACGAGGGTGTGACACACCGTCTTTGGGTGAAACCGTG',\n",
    "'GTCTAGTAACCGTCAAATCGCCCATCCTCATTCTCAAACCACCTGCCCAGTATCATGACTCGGATTTAAAAGTCCCCCGAAGCCTGATATTCCAAACCTTATGGGTAGGGACACGCGCGTGTGTGACTGTACATACGCGCGGATTATGTGTAACAA',\n",
    "'TTGAGACACAGCAATTCACCAACTATTCCCCCTTTTTGATTTGTTGGCGGCAACGCGCCTTCATAATAGTTCACATCCACCAGCTCAATACAAACACGTGTTTCGAACACACCCAAACGTTGCCCCTCCAACGCTAACTGGGCCGGACCGGCCGCG',\n",
    "'CAATTTAATTGTTATGATATAGGAGCGAGTTGTCAGCCGTTTCTCAGCTGACACGAGGCAGGATACGCCCTTCACACTGTCCGTGAGGTCACGTTAACTTCTCGCCAGAAGGTAAACCTCTACGTGATCATTTGAATTTCTGAATCCGGGATACTG',\n",
    "'GCAGAACAGTTCTAAGAAGTTATATTCTAAATCCGTTTAATGCATAGCTGGGCTCAAGAACTCGCCTGCCTTAATGAAGCTAGTAGTTGGGATGAATGCGACAAGATACTTTGATGAGAAGGCAACGCTCCTTCGTGAAGGACGTCACAATACTGG',\n",
    "'TCTGGTGACAAGCACTGGTAAGAGGCGGCCGGGCCAACCTTATAGGAAGGGCACGCACGTGCCGGCGCAGCAGAAACTGTTTAGGGTGGCTAACTATCCCGGAGCTTATGGTGAATCCATGAAATCGGGCAACGTTAAGTGCCTGGGTAATTGTCG',\n",
    "'GACCAGGTGTAAGTCTTCTTAAAGACGGCCTCGCTGAGGTTTTAAAGAACCAGATCGTCGGTCTGTGAAATTTTTATTCGATGCCTCGAACTGTTCCTCACCCCGACTGGAAACGCACATGCCATTGTACTAAGAATGAAAACTTGCCGTTGATTT',\n",
    "'CTAAGCTACTGTAAACAATAACTGGGGTGCCCGGGTGGTTCCCACTTTCATCGGGTGACTTCTACAAACTAAATTTGATATATAGGCTACGCCCCTGACAAGCCGGACTTTCGGTCGCTTAGAAGTCCGCTTGGAGGGAAGACAGGGTTTATGCGG',\n",
    "'AGCTCGAACATCGATGAGCAATCAGATAGAGCACCCGGTCCCCTAACCCACACAGAGCCCGGGCACGCTCTTCCAGGCTAGTTATTTCGAGGTTTTCTTTTTTATAGTGTGGAGACCGGAAAAACACACTACGATCCGCAGTCGTCGGACAATTAA',\n",
    "'TAGGGCTGAACTTGGGCAATCCGGTCCGATCAGTGCTCAAAGGGTAACGATATCGTACGTGACGCGGTGTAAATTAAACCTCCTCGGCCAACATGAGGCTACGCGCTTAGGGATTGGGTTCAGCATCCTGAAGTTCATTGTCCACTAACGCACTAC',\n",
    "'CGAAGTACTCGATTAAGACACGTTCAACATCGCGATGAAAGTCTTGGAACGAGGAATAGGGGTCACGCCCTTCCAATATCAGAGAGGAGCGAGACCTGAATACTAAAAACAGGCCCTGTAGTGTAGTAGACGCGTCCGTGTTGCTAGATATTGCGT',\n",
    "'AGGACTAACAGTGTATAATGGGCCTCAGAGTTACCGTTGGACGCCCTTGCAGGTCCCGACATATGCTGAGGAGGAAACGCTCGTGATGTCATCCTAACGACATCTCCAACACCCGTCGGCTTTTTTTAATAGAAAGCTATTCGCTTATGGTGGGAT',\n",
    "'GACGGCACACTTAAGTTATAGTGGGGCAACTAGGTCGAAGTCCTGTCTCCCCAAGTATCTTTATTTCCCACACAATGGAGTCTAGAATGGCCTCCAGGAGACGCCCTTTTTATCCCGACTGATGCACAATTGTTGCTTGCATATGCTACAATATAG',\n",
    "'CGAGGACGAGGAACGAGACCAGTATTCGCACTATTGTTGAGTTCTTTAGGAAACGCTCGTCTTGTCCCGGAGAGTCATGTAACTGCTACGGGCCAGGCACCTTCCATCGGGCCAGACGTTCATACCTCCGCTGGTATTCATAGAACACTTACCGCT',\n",
    "'AGCTCTTCTACACCTTGATAGCCTAGCTTGCTATGGAGGCCCAAGTCAGGAGACGCGCGTTCAATGTGTATCTGGCCCACGATATGCATACAGGAGACTCTACCTCTTTAACGTATACTACGACCTGATGAATTTGGGGGGTGGCTCGGGGTGACC',\n",
    "'AGTTAGGATCCCATTGCATCTTTGACGTCGTCAGATATGGTAGGTACTCGGTTAACGAGGACCCGTGGTCTAATGCCTTGAAACGAAGCTAGCGGATGTAATTCCCGCAGAACTAGACTAAGCCCTACCTATATTAAACGAACAGGCGACGCACAT',\n",
    "'ACAGTTGGCCATGCGCTGACTGACATAGGGAGAATCAGTCGGTGAAAGCACCGTGACGCCGTACCGCCATGGTACTATGGAGAGCCAAATCGTATGAGTAAAGGCCCCGGGGACTTGGGGAACGTATTGGATGGCCACGCACCTTAAAACAGTTCC',\n",
    "'TAATTACCTGTATAACGGTTTAAGAAATTTGTCTTAAGACAAGTATTAGCCGAGGTTTTGGGTTACGCCCATCTAACTGCGGGTACACGCGGAACAAGGGGGGACTAGATGTTGAGTGATGCCCGCGAAGCCTCCCCTGCAGTGAAATGACTGTGT',\n",
    "'TGAGGGTCCGGGTCCAAGTGGACAGTTCGTCGAGCACCCGGCACGAGCTTGTATGCGAGCCAGGGTTGCAATGTGCTTAAGGAAGGTTACGCACGTAGCTTCACTGCAACCAGAGGCCTGGAGGGGACGATATAGTCTGTTTTGTGTAGTCTGATG',\n",
    "'TCTGCGTTTTGGAACACGACTTCCTGTTAGGGTCGTGCCTCACGTCTTGGCTACGCGCATCATGTACGACGGCGAAGGCGCTTCGCACACCCTTCCTTGCCGAGCAATAGACCATGCCGGCTTGTCTCGCGCAGTGACCGTCCTGTGCCCCCTCGG',\n",
    "'TCGCACCGAATGAAGCAGGGCGACTTTTGCCTAGCTGGGAACGCCCCTCAGTAGCTGTTGACTGGGGAAGAGGCCCACTGTGGCCAACACGCTGGAAGTTTTTTCCTGTTAGTGTGCTATGCAGATCATTTAGTTTTAACTGGCCCAATCTCCTGA',\n",
    "'GTAGCTTATGCAGCAACATCGTCTATAGACTAACAGGTTGAGTTAGGAGGGTACGCACTTCGGAACAGTGCAGTCTGTTAAACTTCAATACCCCCTCGGTACTTCCGCGTTTTCCAATAGCTCATAAGTCACTGAACTTCTGGCGAGTCCTTGGCT']\n",
    "\n",
    "ans = GreedyMotifSearch(text, 12, 25)\n",
    "print(*ans)"
   ]
  },
  {
   "cell_type": "code",
   "execution_count": 60,
   "metadata": {},
   "outputs": [
    {
     "name": "stdout",
     "output_type": "stream",
     "text": [
      "AGGCGAAGCGTG TAAACATAAGCC AAACTCGCTGAG CGGCACCTACAC TAGCCCTCCGAG TGAAGCCCTGTG GGGGGTTTCTAT GAAATTTCCGTG AGGCTCTCCTTG CGGAACTCCTTG GGGAGCTCCTTG CGGATCTCCGTG TAGAGCCTCGCT TGGAGCTCCTTG TGGCACCGTCAG AGGGGAATCGAG GGGCCATACGTG TGAAGCGCCGAG TGGATCTCCTTG GGGACCTCCGTG AGGCTCTCCGTG AGGGGCTCCGTG AGAACCGCATTC GGGGTCTCCTTG GGGCACTCCCTG\n"
     ]
    }
   ],
   "source": [
    "def profileMostProbable(text, k, matrix):\n",
    "    probKmer = text[0:k]\n",
    "    highestProb = 0\n",
    "    for i in range(len(text)-k+1):\n",
    "        kmer = text[i:i+k]\n",
    "        probability = 1\n",
    "        for a in range(len(kmer)):\n",
    "            symbol = kmer[a] \n",
    "            j = 0\n",
    "            if symbol == 'A':\n",
    "                j = 0 \n",
    "            if symbol == 'C':\n",
    "                j = 1\n",
    "            if symbol == 'G':\n",
    "                j = 2\n",
    "            if symbol == 'T':\n",
    "                j = 3\n",
    "            \n",
    "            probability = probability * matrix[j][a]\n",
    "        if probability > highestProb:\n",
    "            highestProb = probability\n",
    "            probKmer = kmer \n",
    "\n",
    "    return probKmer\n",
    "\n",
    "def SymbolToNumber(symbol):\n",
    "    if symbol == 'A':\n",
    "        return 0\n",
    "    if symbol == 'C':\n",
    "        return 1\n",
    "    if symbol == 'G':\n",
    "        return 2\n",
    "    if symbol == 'T':\n",
    "        return 3\n",
    "\n",
    "def formProfile(motifmatrix, k, t):\n",
    "    countMatrix = [[0] * k for a in range(4)]\n",
    "    sumOfCol = 0\n",
    "    for col in range(k):\n",
    "        for row in range(len(motifmatrix)):\n",
    "            text = motifmatrix[row]\n",
    "            symbol = text[col]\n",
    "            num = SymbolToNumber(symbol)\n",
    "            countMatrix[num][col] = countMatrix[num][col] + 1\n",
    "\n",
    "    for row in range(4):\n",
    "        sumOfCol += countMatrix[row][0]\n",
    "\n",
    "    profileMatrix = [[0] * k for a in range(4)]\n",
    "    for row in range(4):\n",
    "        for col in range(k):\n",
    "            div = countMatrix[row][col]\n",
    "            profileMatrix[row][col] = div/float(sumOfCol)\n",
    "\n",
    "    return profileMatrix\n",
    "\n",
    "def findScore(motifs, k): \n",
    "    score = 0\n",
    "    for col in range(k):\n",
    "        col_i = []\n",
    "        for row in range(len(motifs)):\n",
    "            text = motifs[row]\n",
    "            col_i.append(text[col])\n",
    "        freqArray = [0, 0, 0, 0] \n",
    "        for sym in col_i:\n",
    "            symNum = SymbolToNumber(sym)\n",
    "            freqArray[symNum] = freqArray[symNum] + 1\n",
    "        maxFreq = max(freqArray)\n",
    "        score_i = sum(freqArray) - max(freqArray)\n",
    "        score += score_i\n",
    "\n",
    "    return score\n",
    "\n",
    "def GreedyMotifSearch(dna, k, t):\n",
    "    bestMotifs = [] \n",
    "    for i in range(t):\n",
    "        text = dna[i]\n",
    "        kmer = text[0:k]\n",
    "        bestMotifs.append(kmer)\n",
    "\n",
    "    for c in range(len(dna[0])-k+1):\n",
    "        motifs = ['']\n",
    "        text = dna[0]\n",
    "        motif = text[c:c+k]\n",
    "        motifs[0] = motif \n",
    "        for i in range(1,t):\n",
    "            profileMatrix = formProfile(motifs, k, t)\n",
    "            newMotif = profileMostProbable(dna[i], k, profileMatrix)\n",
    "            motifs.append(newMotif)\n",
    "\n",
    "        if findScore(motifs, k) < findScore(bestMotifs, k): \n",
    "            bestMotifs = motifs\n",
    "\n",
    "    return bestMotifs\n",
    "\n",
    "def main():\n",
    "    with open('dataset_159_5.txt', 'r') as myfile:\n",
    "        data = myfile.readlines()\n",
    "    numbers = data[0]\n",
    "    numbers = numbers.rstrip('\\n')\n",
    "    nums = numbers.split()\n",
    "    k = int(nums[0])\n",
    "    t = int(nums[1])\n",
    "    dna = []\n",
    "    for i in range(1, len(data)):\n",
    "        text = data[i]\n",
    "        text = text.rstrip('\\n')\n",
    "        dna.append(text)\n",
    "        \n",
    "    bestMotifs = GreedyMotifSearch(dna, k, t)\n",
    "    for motif in bestMotifs:\n",
    "        print(motif)\n",
    "        \n",
    "bestMotifs = GreedyMotifSearch(dna, 12, 25)\n",
    "print(*bestMotifs)"
   ]
  },
  {
   "cell_type": "code",
   "execution_count": 61,
   "metadata": {},
   "outputs": [],
   "source": [
    "#Find the best motif according to a profile and a list of dna strings\n",
    "#profile is a dictionary with keys A C G T\n",
    "#dna is a list of strings\n",
    "#output is a list of the best motifs for each string\n",
    "def BestProfileMotif(profile, dna):\n",
    "    kmer=len(profile['A'])\n",
    "    pattern=dna.copy()\n",
    "    for j in range(len(dna)):\n",
    "        score=-1\n",
    "        for i in range(len(dna[j])-kmer+1):\n",
    "            score2=Pr(dna[j][i:i+kmer], profile) #probability of occurrence, want this to be as close to 1 as possible\n",
    "            if score2>score:\n",
    "                score=score2\n",
    "                pattern[j]=dna[j][i:i+kmer]\n",
    "            if score2==score:\n",
    "                pattern[j]=pattern[j]\n",
    "    return pattern"
   ]
  },
  {
   "cell_type": "code",
   "execution_count": 62,
   "metadata": {},
   "outputs": [
    {
     "data": {
      "text/plain": [
       "['TGA', 'TAA', 'GGA', 'TGT']"
      ]
     },
     "execution_count": 62,
     "metadata": {},
     "output_type": "execute_result"
    }
   ],
   "source": [
    "DNA = [\"TGACGTTC\", \"TAAGAGTT\", \"GGACGAAA\", \"CTGTTCGC\"]\n",
    "test = [\"TGA\", \"GTT\", \"GAA\", \"TGT\"]\n",
    "profile = ProfileWithPseudocounts(test)\n",
    "BestProfileMotif(profile, DNA)"
   ]
  },
  {
   "cell_type": "code",
   "execution_count": 63,
   "metadata": {},
   "outputs": [],
   "source": [
    "#need random number generator\n",
    "import random\n",
    "\n",
    "#Make random motifs of length k\n",
    "#dna is a list of strings\n",
    "#k is how long the desired motifs will be (integer)\n",
    "#t is how many strings are in list dna (instructed to include this, I feel like you could easily leave it out and include it in the function)\n",
    "#output is a list of strings length k\n",
    "def RandomMotifs(dna, k, t):\n",
    "    sub = []\n",
    "    for i in range(t-1):\n",
    "        x = random.randint(1, (len(dna[i])-k))\n",
    "        sub.append(dna[i][x:x+k])\n",
    "    return sub"
   ]
  },
  {
   "cell_type": "code",
   "execution_count": 64,
   "metadata": {},
   "outputs": [],
   "source": [
    "#Start with random motifs to get closer to the best motifs\n",
    "#Randomized way is faster, but not really as reliable...\n",
    "#dna is a list of strings\n",
    "#k is length of motif (integer)\n",
    "#t is how many strings are in the list dna\n",
    "#output is a string of length k\n",
    "def RandomizedMotifSearch(dna,k,t):\n",
    "    m = RandomMotifs(dna, k, t) #generate random motifs firt\n",
    "    best_motifs = m\n",
    "    while True:\n",
    "        profile = ProfileWithPseudocounts(m)\n",
    "        m = BestProfileMotif(profile, dna) #identify the best motifs out of the random motifs according to profile\n",
    "        if Score(m) < Score(best_motifs): \n",
    "            best_motifs = m\n",
    "        else:\n",
    "            return best_motifs"
   ]
  },
  {
   "cell_type": "code",
   "execution_count": 71,
   "metadata": {},
   "outputs": [
    {
     "name": "stdout",
     "output_type": "stream",
     "text": [
      "GTGTTCAG GGTGCCAG GTATACAG CACGTCGG TCCACCAG\n",
      "TCG GCG GCG TCG GCT\n"
     ]
    }
   ],
   "source": [
    "prac = [\"CGCCCCTCTCGGGGGTGTTCAGTAAACGGCCA\",\n",
    "\"GGGCGAGGTATGTGTAAGTGCCAAGGTGCCAG\",\n",
    "\"TAGTACCGAGACCGAAAGAAGTATACAGGCGT\",\n",
    "\"TAGATCAAGTTTCAGGTGCACGTCGGTGAACC\",\n",
    "\"AATCCACCAGCTCCACGTGCAATGTTGGCCTA\"]\n",
    "\n",
    "res = RandomizedMotifSearch(prac,8,5)\n",
    "print(*res)\n",
    "\n",
    "prac2 = [\"GGCGTTCAGGCA\", \n",
    "         \"AAGAATCAGTCA\", \n",
    "         \"CAAGGAGTTCGC\", \n",
    "         \"CACGTCAATCAC\", \n",
    "         \"CAATAATATTCG\"]\n",
    "res = RandomizedMotifSearch(prac,3,5)\n",
    "print(*res)"
   ]
  },
  {
   "cell_type": "code",
   "execution_count": 72,
   "metadata": {},
   "outputs": [
    {
     "name": "stdout",
     "output_type": "stream",
     "text": [
      "0\n",
      "10\n",
      "20\n",
      "30\n",
      "40\n",
      "50\n",
      "60\n",
      "70\n",
      "80\n",
      "90\n",
      "100\n",
      "110\n",
      "120\n",
      "130\n",
      "140\n",
      "150\n",
      "160\n",
      "170\n",
      "180\n",
      "190\n",
      "200\n",
      "210\n",
      "220\n",
      "230\n",
      "240\n",
      "250\n",
      "260\n",
      "270\n",
      "280\n",
      "290\n",
      "300\n",
      "310\n",
      "320\n",
      "330\n",
      "340\n",
      "350\n",
      "360\n",
      "370\n",
      "380\n",
      "390\n",
      "400\n",
      "410\n",
      "420\n",
      "430\n",
      "440\n",
      "450\n",
      "460\n",
      "470\n",
      "480\n",
      "490\n",
      "500\n",
      "510\n",
      "520\n",
      "530\n",
      "540\n",
      "550\n",
      "560\n",
      "570\n",
      "580\n",
      "590\n",
      "600\n",
      "610\n",
      "620\n",
      "630\n",
      "640\n",
      "650\n",
      "660\n",
      "670\n",
      "680\n",
      "690\n",
      "700\n",
      "710\n",
      "720\n",
      "730\n",
      "740\n",
      "750\n",
      "760\n",
      "770\n",
      "780\n",
      "790\n",
      "800\n",
      "810\n",
      "820\n",
      "830\n",
      "840\n",
      "850\n",
      "860\n",
      "870\n",
      "880\n",
      "890\n",
      "900\n",
      "910\n",
      "920\n",
      "930\n",
      "940\n",
      "950\n",
      "960\n",
      "970\n",
      "980\n",
      "990\n",
      "CGGTTACGCCCATCC GGGATACGCCCTTAG AGGGGACGCCCCTCC TGGCCACGCGCCTTA GGGACACGCGCGTGT CGGCAACGCGCCTTC AGGATACGCCCTTCA AGGCAACGCTCCTTC AGGGCACGCACGTGC TGGAAACGCACATGC AGGCTACGCCCCTGA CGGGCACGCTCTTCC AGGCTACGCGCTTAG GGGTCACGCCCTTCC AGGAAACGCTCGTGA AGGAGACGCCCTTTT AGGAAACGCTCGTCT AGGAGACGCGCGTTC AGACTAAGCCCTACC TGGCCACGCACCTTA GGGTTACGCCCATCT AGGTTACGCACGTAG TGGCTACGCGCATCA TGGGAACGCCCCTCA AGGGTACGCACTTCG \n",
      "\n"
     ]
    }
   ],
   "source": [
    "#Randomized motif search gets better over many iterations\n",
    "N=1000\n",
    "score1=5000\n",
    "for i in range(0,N):\n",
    "    if i%10==0:\n",
    "        print(i) #This is just so I know where I am over the iterations\n",
    "    tempmotif=RandomizedMotifSearch(text,15, 20)\n",
    "    score=Score(tempmotif)\n",
    "    if score<score1:\n",
    "        score1=score\n",
    "        best_motifs=tempmotif\n",
    "\n",
    "\n",
    "print(*best_motifs, \"\\n\")"
   ]
  },
  {
   "cell_type": "code",
   "execution_count": 80,
   "metadata": {},
   "outputs": [],
   "source": [
    "import random\n",
    "\n",
    "# Input:  String Text, an integer k, and profile matrix Profile\n",
    "# Output: String of most probable pattern\n",
    "def ProfileMostProbablePattern(Text, k, Profile):\n",
    "    n = len(Text)\n",
    "    maximum = -1\n",
    "    probable_pattern = ''\n",
    "    for i, letter in enumerate(Text):\n",
    "        for i in range(n-k+1):\n",
    "            pattern = Text[i:i+k]\n",
    "            probability = Pr(pattern,Profile)\n",
    "            if (probability > maximum):\n",
    "                maximum = probability\n",
    "                probable_pattern = pattern\n",
    "    if maximum == -1:\n",
    "        return Text[0:0+k]\n",
    "    else:\n",
    "        return probable_pattern"
   ]
  },
  {
   "cell_type": "code",
   "execution_count": 81,
   "metadata": {},
   "outputs": [],
   "source": [
    "# Input:  A set of kmers Motifs\n",
    "# Output: CountWithPseudocounts(Motifs)\n",
    "def CountWithPseudocounts(Motifs):\n",
    "    t = len(Motifs)\n",
    "    k = len(Motifs[0])\n",
    "    count = {}\n",
    "    for symbol in \"ACGT\":\n",
    "        count[symbol] = []\n",
    "        for j in range(k):\n",
    "            count[symbol].append(1)\n",
    "    for i in range(t):\n",
    "        for j in range(k):\n",
    "            symbol = Motifs[i][j]\n",
    "            count[symbol][j] += 1\n",
    "    return count"
   ]
  },
  {
   "cell_type": "code",
   "execution_count": 82,
   "metadata": {},
   "outputs": [
    {
     "name": "stdout",
     "output_type": "stream",
     "text": [
      "{'A': [0.2222222222222222, 0.3333333333333333, 0.2222222222222222, 0.1111111111111111, 0.1111111111111111, 0.3333333333333333], 'C': [0.3333333333333333, 0.2222222222222222, 0.5555555555555556, 0.3333333333333333, 0.1111111111111111, 0.1111111111111111], 'G': [0.2222222222222222, 0.2222222222222222, 0.1111111111111111, 0.3333333333333333, 0.2222222222222222, 0.2222222222222222], 'T': [0.2222222222222222, 0.2222222222222222, 0.1111111111111111, 0.2222222222222222, 0.5555555555555556, 0.3333333333333333]}\n"
     ]
    }
   ],
   "source": [
    "# Input:  A set of kmers Motifs\n",
    "# Output: ProfileWithPseudocounts(Motifs)\n",
    "def ProfileWithPseudocounts(Motifs):\n",
    "    t = len(Motifs)\n",
    "    k = len(Motifs[0])\n",
    "    profile = {}\n",
    "    count = CountWithPseudocounts(Motifs)\n",
    "    for key, motif_lists in sorted(count.items()):\n",
    "        profile[key] = motif_lists\n",
    "        for motif_list, number in enumerate(motif_lists):\n",
    "            motif_lists[motif_list] = number/(float(t+4))\n",
    "    return profile\n",
    "\n",
    "motif1 = \"AACGTA\"\n",
    "motif2 = \"CCCGTT\"\n",
    "motif3 = \"CACCTT\"\n",
    "motif4 = \"GGATTA\"\n",
    "motif5 = \"TTCCGG\"\n",
    "motifs = [motif1, motif2, motif3, motif4, motif5]\n",
    "\n",
    "print(ProfileWithPseudocounts(motifs))"
   ]
  },
  {
   "cell_type": "code",
   "execution_count": 83,
   "metadata": {},
   "outputs": [],
   "source": [
    "def GreedyMotifSearchWithPseudocounts(Dna, k, t):\n",
    "    BestMotifs = []\n",
    "    # search through DNA string\n",
    "    for i in range(0, t):\n",
    "        # starts by setting BestMotifs equal to the first k-mer from each string in Dna\n",
    "        BestMotifs.append(Dna[i][0:k])\n",
    "    n = len(Dna[0])\n",
    "    # ranges over all possible k-mers in Dna[0], trying each one as Motifs[0]\n",
    "    for i in range(n-k+1):\n",
    "        Motifs = []\n",
    "        Motifs.append(Dna[0][i:i+k])\n",
    "        for j in range(1, t):\n",
    "            # builds a profile matrix Profile for this lone k-mer, and sets Motifs[1] equal to the Profile-most probable k-mer in Dna[1]\n",
    "            P = ProfileWithPseudocounts(Motifs[0:j])\n",
    "            # sets Motifs[i] equal to the Profile-most probable k-mer from Dna[i] based on this profile matrix\n",
    "            Motifs.append(ProfileMostProbablePattern(Dna[j], k, P))\n",
    "        # GreedyMotifSearch checks whether Motifs outscores the current best scoring collection of motifs, BestMotifs\n",
    "        if Score(Motifs) < Score(BestMotifs):\n",
    "            BestMotifs = Motifs\n",
    "    return BestMotifs"
   ]
  },
  {
   "cell_type": "code",
   "execution_count": 84,
   "metadata": {},
   "outputs": [],
   "source": [
    "def Consensus(Motifs):\n",
    "    k = len(Motifs[0])\n",
    "    profile = ProfileWithPseudocounts(Motifs)\n",
    "    consensus = \"\"\n",
    "    for j in range(k):\n",
    "        maximum = 0\n",
    "        frequentSymbol = \"\"\n",
    "        for symbol in \"ACGT\":\n",
    "            if profile[symbol][j] > maximum:\n",
    "                maximum = profile[symbol][j]\n",
    "                frequentSymbol = symbol\n",
    "        consensus += frequentSymbol\n",
    "    return consensus"
   ]
  },
  {
   "cell_type": "code",
   "execution_count": 85,
   "metadata": {},
   "outputs": [],
   "source": [
    "def Score(Motifs):\n",
    "    count = 0\n",
    "    consensus = Consensus(Motifs)\n",
    "    for motif in Motifs:\n",
    "        for index, letter in enumerate(motif):\n",
    "            if letter != consensus[index]:\n",
    "                count += 1\n",
    "    return count"
   ]
  },
  {
   "cell_type": "code",
   "execution_count": 86,
   "metadata": {},
   "outputs": [],
   "source": [
    "def Pr(Text, Profile):\n",
    "    p = 1\n",
    "    # loop through each index(char) in text\n",
    "    for index,char in enumerate(Text):\n",
    "        for key, profile_lists in sorted(Profile.items()):\n",
    "            if char == key:\n",
    "                p *= profile_lists[index]\n",
    "    return p"
   ]
  },
  {
   "cell_type": "code",
   "execution_count": 92,
   "metadata": {},
   "outputs": [
    {
     "name": "stdout",
     "output_type": "stream",
     "text": [
      "TTC ATC TTC ATC TTC\n"
     ]
    }
   ],
   "source": [
    "k = 3\n",
    "t = 5\n",
    "Dna = [\"GGCGTTCAGGCA\", \"AAGAATCAGTCA\", \"CAAGGAGTTCGC\", \"CACGTCAATCAC\", \"CAATAATATTCG\"]\n",
    "res = GreedyMotifSearchWithPseudocounts(Dna, k, t)\n",
    "print(*res)\n",
    "\n"
   ]
  },
  {
   "cell_type": "code",
   "execution_count": 96,
   "metadata": {},
   "outputs": [
    {
     "name": "stdout",
     "output_type": "stream",
     "text": [
      "CGA CGA CGA CGA CGA\n"
     ]
    }
   ],
   "source": [
    "k = 3\n",
    "t = 5\n",
    "Dna = [\"ACGAGAACTGTAATGGAGACCAATCGGGTCGTATGTACGACACGGATCTTCTGTATCGATCATCGCTTAACTTATACGATCTCATTCTCACGACGATCCTCAACCCCGGATACCCGCACTGCCTCAATCCGAAGTACTGCGTAGTACTTTACCCTT\",\n",
    "\"ACCTGTGATCACTCAGAGAACAGAGGATCCGGGTTGGATGTCAGTGTTATGCCAAGAAACGAGACCTAAGGTGCCGTCCCCGGCGGAATGCTTCTCGCTTCCCCTTCTAAAGGGTCCTGGCAAAATGCTTGTGACTTTGAATGCCCTCACTGAACT\",\n",
    "\"AAATGTGAAACCTATATCAGTCATTATACCGGCGCGATGTTAACTCGCACCTGATTGCAAGGTCACTGATCGCGTCACTACACTAGAGTTTATTCATACCTGCATGGGGGGCATGATGGATGAATTTTAACTAGGTGATCGTGACCAATGTTCACC\",\n",
    "\"TTTAACCGAATGAGAAGGGTTTCGTTTTAGGCCGTCGATCCGCCGCTTCTTCTCTCGACTGAATCGGAGGTTTTAATGTGTGTGCTAAAGTGAACTGCCTAATAACCCGCTAGGGGGATGATTTATTGTATCTGCAATGTACGGTGGTACATCCCG\",\n",
    "\"GCTTTCCCGTGTTCTTCGTGCGCTCGGGACCAGAGATCAGAACTAGTGCTAAAGCCATGGAAGCATTTAGCCGGCCGATGTAGTAAAGTTGCCCATATTTCTCCCTAAACCAGCGTATACGTCGAAAACTTTCTTCACTCCACTATGTATAGATGG\",\n",
    "\"CGCTTAGCGCATCCTCGCTAAACTAATTTGTAGGAGCAATCGCATGTCGACACCGAGGAAGACAACAAGTACATTAGTTACACGCTTCTTACTGGGGATAAAAATCTAGGATCGCGTGATCGGCGTGCTCCGGCGTCAGGTGACTTGATGGCCCCA\",\n",
    "\"AGTCATGACAATTCGCACGAGGTGACTTTCAATCGACTTACGTACTGCGCGTCGATGTCGCTTCACTCCACTAATACCCATATTCCTAACACGCCAGTACGGTTCAGAGTCGGCGGCTGAGGGGCCCTAGAAACGAGACACCCTAGAGGCTCTGGG\",\n",
    "\"ATAATAAACGAGATTTAGTGCTCCAGGTCCCTCTAACTTCGCTAGACTGTTCACGGTACTTAGAGTAGCTCAGAAATCGCCTGTCTTCGGGTTGGTTTTTTCAGGAGGTGCTCTGTGCGTTAACATACCAAGCCATAGCTGCTTTTCCTCTACAAA\",\n",
    "\"CCTACCGGAGGACTTCACTGAACTAAGTACTGGGGTGCTAAGGTCGAACGAGATGACTGGACCCTACTCTCTACGGGACCGACGCCCCAGGGCTTAATTCATATTGACTAGATTTATGATAATAATAGACTCGGCGGTTTGTAGCTTTCCCCTGAA\",\n",
    "\"CATTTCTATAAAGCTACAATAATAATCCGCGCTGTCGGCAGACGTGGTACCGACCCTACTCCTACCGTTTGAGAGATGGAGGGTCTTCCCTGAACTAACGGCATGCATGAGAGGGGTACGACCCTGGTACTTCTGAAACCAGCATCCGCGGCGACG\"]\n",
    "\n",
    "res = GreedyMotifSearchWithPseudocounts(Dna, k, t)\n",
    "print(*res)"
   ]
  },
  {
   "cell_type": "code",
   "execution_count": null,
   "metadata": {},
   "outputs": [],
   "source": []
  }
 ],
 "metadata": {
  "kernelspec": {
   "display_name": "Python 3",
   "language": "python",
   "name": "python3"
  },
  "language_info": {
   "codemirror_mode": {
    "name": "ipython",
    "version": 3
   },
   "file_extension": ".py",
   "mimetype": "text/x-python",
   "name": "python",
   "nbconvert_exporter": "python",
   "pygments_lexer": "ipython3",
   "version": "3.7.4"
  }
 },
 "nbformat": 4,
 "nbformat_minor": 4
}
