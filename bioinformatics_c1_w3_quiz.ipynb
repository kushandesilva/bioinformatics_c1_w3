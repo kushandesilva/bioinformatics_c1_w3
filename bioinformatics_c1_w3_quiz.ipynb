{
 "cells": [
  {
   "cell_type": "code",
   "execution_count": 10,
   "metadata": {},
   "outputs": [],
   "source": [
    "#Calculate how different two sequences are from each other. The bigger the number, the more different\n",
    "#p and q are both sequence strings that should be the same length\n",
    "#Return an integer\n",
    "def HammingDistance(p, q):\n",
    "    dist = 0\n",
    "    if len(p)==len(q): #check to make sure sequences are the same length\n",
    "        for i in range(len(p)):\n",
    "            if p[i]==q[i]: #if the sequence has the same letter at the same position, don't add to score\n",
    "                dist+=0\n",
    "            else:\n",
    "                dist+=1\n",
    "    return dist"
   ]
  },
  {
   "cell_type": "code",
   "execution_count": 11,
   "metadata": {},
   "outputs": [],
   "source": [
    "def Neighbors(pattern, d):\n",
    "    if d == 0: #if you're allowed no mismatches, just return the pattern\n",
    "        return pattern\n",
    "    elif len(pattern) == 1: #if the pattern is only 1nt long, return all the possible nucleotides\n",
    "        return {'A', 'C', 'G', 'T'}\n",
    "    neighborhood = []\n",
    "    suffix_neighbors = Neighbors(pattern[1:], d) #recursion. Logically goes off the rails for me here.\n",
    "    for text in suffix_neighbors:\n",
    "        nucleotides = {'A', 'C', 'G', 'T'}\n",
    "        if HammingDistance(pattern[1:], text) < d:\n",
    "            for x in nucleotides:\n",
    "                neighborhood.append(x + text)\n",
    "        else:\n",
    "            neighborhood.append(pattern[0] + text)\n",
    "    return neighborhood"
   ]
  },
  {
   "cell_type": "code",
   "execution_count": 12,
   "metadata": {},
   "outputs": [
    {
     "name": "stdout",
     "output_type": "stream",
     "text": [
      "GCCGA GTGGT CTACG GATGC TCCTC CATAA TCCAC TACGC GGATA CGGGG TGAAG TACCT GTATC CGCGG CTCAA GGCGT CCAGC CTTTG GCATT CGGTC ACTAA CGACC ACCTG TACGG GGCGA AGTGG ACGTG TGTAC GTAGT ACTCC CAGCT CATCC CTGGC CCCCT CGCTC GTGCC CCCTC ACCCG CGTTG CCCGA GCTCG GGGTT GTACC TAAGC GGTCT ACTCA GGAAC CTGGG TGTTT TTATT CGTAA ACCAC CCTAA CTGAC AAGCT ATACT GTCGA CCGAG CGTAT CTGAA AACCT ACCGA AACGT ACCTT ATTGC AACGC ATTCT GACGC GTAAG CTGCT GTGTA ACCGG CTGGA CACCT CGTGG GAACA TTTAT CCTGG AGAGC CAATC GTGAC AACCA CCCGT AGTGT GTGGG AGCGT ATATC TATGC GATCA CATCG AGCAC AAGTC CGTCT CCTCC CTTAA CGGCC AAATG GCTTC TACTT CGGTA CTCAT GTCGT CCACT AAATC GTGCA TCTAA GAATC TCCGG TCCGT GCCCT CTTGC TGGCT ACGTC CACGC CCAGA TCACA AACAA CGTCG CAAGA TGCCT ACATC CATAC AATGT TTCTC GGCCG ACATT CGAGA ATGCA GCTGA CACAA CTCCG CCCAA ACACG AGTTG TCCCG ATCGG GGATG GGGTC GATTC TTACC ACTTC CGTAC CGATT TCACC AACCG CTCGT CCCCC CAGTG GCCTC CTCCT TATGT TTTGA GGTGC GTGAG TTGAT TGCAT CGAAA AGTTT AATTT TCCGA CCCCA GCGGT AGGTC AAAGG TGGCA AGCCA TTGGA GGTAT TTGAG GACAT TGTTG ATGCG TGATA CCACC AGCCG CGTGT TGTTC GACAC CAGGG TGAGT GTATA TACAC CACCA AACAT TCTCC CGCGT TCCTA GTTTA CTAAC GTTCT TGCCC ACACC ACGCG ATTGT ATCGA CGGTG ATCCT GAAAT ACGCC AACGA TAACC AGTGA TTCCA GATCG ACGCT CGGGT TGTTA CCATG GAGTA CCTAG GAGTT GATGG TTGCT AGGAT AAGCC CTGCA TTCTT TCAAT ACGCA AATCC GACCA AGGCT CCCGC ATGGC GGCTT AGGGA CCGTG CGAGC TATGA AAGGC TGGGA CGTCA TAGGG GTTGT TAGAC GAAAC GATAA CTGGT GGCCA GGTTT CCTCG TGAGC ACGAG CAAGC GTCAT GATTG TCGAC TGCTA AGCGC ATCTT ATGGG AAACC CTGAT GGTAA AGAGT AGATC TCTTC GCTGT TTGTC CTAAG ATCCA AGACA TCAGT ATAAC GTACA TCTGA ACGAC GGCAA ACAAT CCACA GGGTA GGTTG CGCTT CCCCG AATTG GTTCC TCCCC GTTCG ATGGT GTCCC GCCCA GGGCT AATCG GTAAT ACGAA TTTTC ACCGC ACCAG CCTCA CCCTA TACAA CTAAT CCGGG CCAGG CTAAA CGGTT TACTA TAATT AATTC TTATG ATGAA ATGTG CTTAC ATGGA AATCT ATGCC ATTTC TCCAT AATCA TAGGT TCTGT TTGAC CCCAG AGTCG TGCCA TGTGG ACCAT CGCCG TAGCG TTCGT TGACC TGGGT ATCGT GCCCG TTGTT GAGGG TAGCC GATGT ATGTA GTAGA TGAAC TCGTT GTTGA ACCCT GAAAA CTATT CCGGT ACTGC GGTGG CCAAA GCGCG TGTAA CAGGT TCTTA TGCTT TACCA CATGT GCTTG TCCTG CCCAC AATAC AAAGC TACCC ATTTA CGAAC ACGGC TGATT ATCAT AGCTC CCGTT TTGAA GCCAG CCGAT CGCCT CGTTA AGCGG AGGGC AGCCT TCGTA GCCCC GCGTC TAGTC TCGTG CGGAA CCCAT ATCTG GCCGT CTGTG GTCAA AAGCA AGCTG TGGTA CTGCC GTTAA GCGTT CACCG GCGTG GTAAA ACTCG CGATC GAACT AACCC GGTAG CTTCA CTAGT ACAGT ATCCC CGTGC GACCC ATACA TCACT TTGCA AAGCG CCGGA CAGCG AGTTC CCACG TAAAT GGAAA CGCTG AGACT CACAT ATCAA GATCC CCGAC CTCTT CGCAC AGGTG TCCAA TCATG GCTCA CAAAT CAATT CGAGT GGATT TTACA TATCC CTTCC GTCCA GTGAA AACTG AGGCC ACCTC GCAAA TCAAC AATGG GCCTA TCAGC AACTC CCCTG TTAAC CACGA CGCAA ATTCC CCAAT TGAAT CTGAG TGACA GCCTG TATGG GTGCT GGTCC TTCCC GCCGG CAGTT CGACA ATTCG CCCGG CCTGA GCGTA ACTGA TGCTG GAATG CTACA ATACC GGTGA AGAAC TTGTA CGAAT CAACA GCAAC ACCTA TATCG CAAGT CAGAC TGAAA ACACT AATGC GCACC TCATA CCATC TTCAA ACCAA AACAG TAATC CAAAC CGAAG TGGTC CTCGG GGTCG ACACA CGCGA GGGAT TACTC CCATA TGGCG AATTA CATTC GCGAA ACGGT TAAAC TGATG CTCAG AGTCC TGCCG TGGTT CATAT TGACT GATAC TTGTG TTAAT GCAAT AAAAC ACCGT GACTC GTCTA GAACC ACAGC AGGGG CTCCC GGCTG CTTAT ACTAT GATTT CTCGC GTGTT GGACC AGTTA CCGGC GACGG TGTGA CACAC TTCAT GGCCC GCCAA CTACC TCTTT TCCAG GTACT CTCAC CAGCC CCATT CTATC AGCAA GTGGA TCCCA GTAGC TTTCC GTACG CCGTC CAGAG GTTGG CTAGC CGGAT TTGGT GTAAC CACAG TCTGG GATGA AAAGT GCCAT ATTGA GTCAC GTTTC CGCCC GTCCG CGGAC CGGGC CAAAG TGGAG TTTGT TAGTG GAGGT CACGT CGTTT TCAAA ATTTG TTCCG GTGAT ATCGC ATAGC CTCCA ACCCC CATGG CCCTT CGTGA GAGCC CCTAC GAACG GGCTC TCGTC CGATG CGAGG GGTAC GGGCA AGTGC ATCAC CACCC GAGAA AAGAC TGTGC ATTGG GTCCT TGGAA AAACG AGTAA TATAC CGCAT CACTT TCGCC TGTAT CTTGT ACCCA GGTCA GGAGA TGGGC CCGCT CGCGC GGACA CCAAC TCCGC GACCG CGTTC AAACA GTTTG CCAAG CTTCG AACTA TGGAT GTATT TCATC AGTAC GAATT ATCCG AGCCC TCGGT GCACG CGGCT ATGCT GGATC CATTG CTGTA ATGAT TTGCG AGACC TGCGT CCAGT TACCG GTTGC CCGAA CAACC ATGAG TGGTG GTGGC ACGGA GCTGG GTTTT TCGAA CAGTC CTGTT ACTGG CAGGA GGGGA CCGCG TAACG CCGCA GACCT GGTTC CGATA AACGG AAATT TCGCG TCTCG CTCGA TCAAG ACAAC CAACG GTTCA CATGC GTTAG CATTA TATTC GAAGC CCGTA CCTGC ATCTA GCTAC ACATA\n"
     ]
    }
   ],
   "source": [
    "def MotifEnumeration(dna, k, d):\n",
    "    motifs = []\n",
    "    for i in range(len(dna)): #cycle through the dna list\n",
    "        if i == 0: #for the first string\n",
    "            for j in range(len(dna[i])-k+1): #cycle through the first string\n",
    "                pattern = (dna[i][j:j+k]) #identify a sequence of k-length in the first string\n",
    "                pattern_p=Neighbors(pattern, d) #use that pattern to identify all possibilities with d mismatches\n",
    "                if isinstance(pattern_p, str)==True:  #If there's only one value, it's a string not a list.\n",
    "                    motifs.append(pattern_p) #add to potential motif list\n",
    "                else:\n",
    "                    motifs.extend(pattern_p) #add to potential motif list\n",
    "    motifs = list(set(motifs)) #get rid of duplicates\n",
    "    temp = {}\n",
    "    removemotif = []\n",
    "    for j in range(1, len(dna)): #now look at the other dna strings\n",
    "        for motif in motifs: #cycle through the motifs and see if they're in the other dna strings\n",
    "            #print(motif) #checking that things are working\n",
    "            for i in range(len(dna[j])-k+1):\n",
    "                if HammingDistance(motif, dna[j][i:i+k]) <= d: #identify if motif occurs in the string\n",
    "                    if motif in list(temp.keys()):\n",
    "                        temp[motif]+=1\n",
    "                    else:\n",
    "                        temp[motif]=1\n",
    "                else:\n",
    "                    if motif not in list(temp.keys()):\n",
    "                        temp[motif]=0\n",
    "            if temp[motif] == 0: #identify motifs that should be removed because they don't occur in the string\n",
    "                removemotif.append(motif)\n",
    "        #print(motifs) #checking that things are working\n",
    "        temp = {} #reset temp before cycling to the next dna string\n",
    "    for motif in list(set(removemotif)): #remove all the motifs not in every string\n",
    "        motifs.remove(motif)\n",
    "    return motifs\n",
    "\n",
    "text = [\"CTTTGCTCGAAACCCTGTGGACTTC\", \"CATGGTTAATTACCTAAACCCGTTC\", \"CTATTGTGTCAAACCCCCGGGTGCG\", \"ACGGGTGTGCACCGCCAACTCATCC\", \n",
    "        \"AATGATCGTAGATCCGAGCCGCATT\", \"TGCTACACCCGGATTCGTGAAGGGA\"]\n",
    "a = MotifEnumeration(text, 5, 2)\n",
    "print(*a)"
   ]
  },
  {
   "cell_type": "code",
   "execution_count": 13,
   "metadata": {},
   "outputs": [],
   "source": [
    "#Count how frequently a symbol occcurs at a certain position when given a list of motifs of the same length\n",
    "#motifs is a list of strings of the same length\n",
    "#count output is a dictionary with A C G T as the keys\n",
    "def Count(motifs):\n",
    "    count = {} # initializing the count dictionary\n",
    "    k = len(motifs[0]) #get the length of each motif row (x axis)\n",
    "    for symbol in \"ACGT\": #Make A C G T a key\n",
    "        count[symbol] = [] #make an empty list for each key\n",
    "        for j in range(k): #for the length of the motif...\n",
    "            count[symbol].append(0) #...for the key, put a zero for each position in the list for now\n",
    "    t = len(motifs) #get the number of keys in the dictionary (y axis)\n",
    "    for i in range(t): #for every key...\n",
    "        for j in range(k): #for list position in each key...\n",
    "            symbol = motifs[i][j] #for this specific position for a key...\n",
    "            count[symbol][j] += 1 #Add one every time this position occurs in the matrix at this position\n",
    "    return count"
   ]
  },
  {
   "cell_type": "code",
   "execution_count": 14,
   "metadata": {},
   "outputs": [
    {
     "data": {
      "text/plain": [
       "9.916290005356972"
      ]
     },
     "execution_count": 14,
     "metadata": {},
     "output_type": "execute_result"
    }
   ],
   "source": [
    "#similar to Count, but get a ratio instead. All columns should add to 1.\n",
    "#motifs input is a list of strings of the same length\n",
    "#profile output is a dictionary with A C G T as keys\n",
    "def Profile(motifs):\n",
    "    t = len(motifs)\n",
    "    k = len(motifs[0])\n",
    "    profile = Count(motifs)\n",
    "    sub= Count(motifs)\n",
    "    for x in range(t): #for key in position x...\n",
    "        for y in range(k): #for list position in that key...\n",
    "            symbol=motifs[x][y]\n",
    "            profile[symbol][y]=(sub[symbol][y])/t\n",
    "    return profile\n",
    "\n",
    "motifs = [\n",
    "\"TCGGGGGTTTTT\",\n",
    "\"CCGGTGACTTAC\",\n",
    "\"ACGGGGATTTTC\",\n",
    "\"TTGGGGACTTTT\",\n",
    "\"AAGGGGACTTCC\",\n",
    "\"TTGGGGACTTCC\",\n",
    "\"TCGGGGATTCAT\",\n",
    "\"TCGGGGATTCCT\",\n",
    "\"TAGGGGAACTAC\",\n",
    "\"TCGGGTATAACC\"\n",
    "]\n",
    "\n",
    "Profile(motifs)\n",
    "\n",
    "#Need this for calculating log2 values\n",
    "import math\n",
    "\n",
    "#Calculate the randomness of a motif\n",
    "#uses a list of dna strings as the input\n",
    "#output is a number standing for the entropy\n",
    "#This wasn't a very useful function.\n",
    "def entropy(motifs):\n",
    "    prof = Profile(motifs)\n",
    "    #result = []\n",
    "    result2 = 0\n",
    "    for i in range(len(prof[\"A\"])):\n",
    "        temp = 0\n",
    "        for key in prof:\n",
    "            if prof[key][i] != 0: #don't want to take the log of zero values\n",
    "                temp += abs(prof[key][i]*math.log2(prof[key][i]))\n",
    "            else:\n",
    "                temp += 0\n",
    "        #result.append(temp) #this is really just here to see that things were working\n",
    "        result2 += temp\n",
    "    return result2\n",
    "\n",
    "0.5*math.log2(0.5)*2\n",
    "\n",
    "0.25*math.log2(0.25)*4\n",
    "\n",
    "1*math.log2(1)\n",
    "\n",
    "0.25*math.log2(0.25)*2+0.5*math.log2(0.5)\n",
    "\n",
    "entropy(motifs)"
   ]
  },
  {
   "cell_type": "code",
   "execution_count": 15,
   "metadata": {},
   "outputs": [
    {
     "data": {
      "text/plain": [
       "['TAA', 'ATA', 'ACG', 'AAA']"
      ]
     },
     "execution_count": 15,
     "metadata": {},
     "output_type": "execute_result"
    }
   ],
   "source": [
    "#Identify the motif with the lowest score\n",
    "#pattern is a string\n",
    "#dna is a list of strings\n",
    "#return a list with the best match for each dna string \n",
    "def Motifs(pattern, dna):\n",
    "    motifs = []\n",
    "    k= len(pattern)\n",
    "    if isinstance(dna, str)==True: #verify if the input is a list or a string\n",
    "        new_dna = []\n",
    "        new_dna.append(dna)\n",
    "        dna = new_dna #If a string, make it a list so it works with the rest of the function\n",
    "    for seq in dna:\n",
    "        score = k\n",
    "        temp_motif = {}\n",
    "        for i in range(len(seq)-k+1): #find the motifs with the lowest score\n",
    "            new_score = HammingDistance(pattern, seq[i:i+k])\n",
    "            if new_score < score:\n",
    "                temp_motif[seq[i:i+k]]=new_score\n",
    "        if len(temp_motif)==0: #if you get nothing lower, just return the first k-mer\n",
    "            motifs.append(seq[0:k])\n",
    "        else:\n",
    "            low_score = min(temp_motif.values()) #Find the lowest score\n",
    "            for key in temp_motif: #identify the motif with the lowest score\n",
    "                if temp_motif[key] == low_score:\n",
    "                    motifs.append(key)\n",
    "                    break #just want one motif per dna string, so end search once you find it\n",
    "    return motifs\n",
    "\n",
    "dna = [\"TTACCTTAAC\", \"GATATCTGTC\", \"ACGGCGTTCG\", \"CCCTAAAGAG\"]    \n",
    "\n",
    "Motifs(\"AAA\", dna)"
   ]
  },
  {
   "cell_type": "code",
   "execution_count": 16,
   "metadata": {},
   "outputs": [
    {
     "data": {
      "text/plain": [
       "4"
      ]
     },
     "execution_count": 16,
     "metadata": {},
     "output_type": "execute_result"
    }
   ],
   "source": [
    "#Return a score for how different a pattern is from the dna input\n",
    "#pattern is a string\n",
    "#dna is a list of strings\n",
    "#output score is an integer\n",
    "def d(pattern, dna):\n",
    "    motifs = Motifs(pattern, dna)\n",
    "    if len(motifs)==0:\n",
    "        return len(pattern)\n",
    "    score = 0\n",
    "    for motif in motifs:\n",
    "        x = HammingDistance(pattern, motif)\n",
    "        score += x\n",
    "    return score\n",
    "\n",
    "d(\"AAA\", dna)"
   ]
  },
  {
   "cell_type": "code",
   "execution_count": 17,
   "metadata": {},
   "outputs": [
    {
     "data": {
      "text/plain": [
       "'AGACAA'"
      ]
     },
     "execution_count": 17,
     "metadata": {},
     "output_type": "execute_result"
    }
   ],
   "source": [
    "#Search for the k-mer that is in at least one string and has the lowest score for all strings\n",
    "#dna can be either a string or a list of strings.\n",
    "#k is an integer for how long the output is supposed to be\n",
    "#output is median, which is a string\n",
    "def MedianString(dna, k):\n",
    "    kmers = []\n",
    "    median = \"\"\n",
    "    if isinstance(dna, str)==True: #If dna is a string, make it a list\n",
    "        new_dna = []\n",
    "        new_dna.append(dna)\n",
    "        dna = new_dna \n",
    "    distance = len(dna[0])*len(dna)\n",
    "    for seq in dna: #for each string in the dna list\n",
    "        for i in range(len(seq)-k+1): #make a list of all kmers\n",
    "            kmers.append(seq[i:i+k])\n",
    "    kmers = list(set(kmers)) #remove duplicates\n",
    "    for kmer in kmers: \n",
    "        if distance > d(kmer, dna): #if the differences are less than the total length\n",
    "            distance = d(kmer, dna) #update the d output as the new min\n",
    "            median = kmer #return the kmer with the lowest distance\n",
    "        elif distance == d(kmer, dna):\n",
    "            median = kmer\n",
    "    return median\n",
    "\n",
    "dna = [\"AAATTGACGCAT\", \"GACGACCACGTT\", \"CGTCAGCGCCTG\", \"GCTGAGCACCGG\", \"AGTTCGGGACAG\"]\n",
    "dna2 = [\"TGATGATAACGTGACGGGACTCAGCGGCGATGAAGGATGAGT\", \"CAGCGACAGACAATTTCAATAATATCCGCGGTAAGCGGCGTA\", \n",
    "        \"TGCAGAGGTTGGTAACGCCGGCGACTCGGAGAGCTTTTCGCT\", \"TTTGTCATGAACTCAGATACCATAGAGCACCGGCGAGACTCA\", \n",
    "        \"ACTGGGACTTCACATTAGGTTGAACCGCGAGCCAGGTGGGTG\", \"TTGCGGACGGGATACTCAATAACTAAGGTAGTTCAGCTGCGA\", \n",
    "        \"TGGGAGGACACACATTTTCTTACCTCTTCCCAGCGAGATGGC\", \"GAAAAAACCTATAAAGTCCACTCTTTGCGGCGGCGAGCCATA\", \n",
    "        \"CCACGTCCGTTACTCCGTCGCCGTCAGCGATAATGGGATGAG\", \"CCAAAGCTGCGAAATAACCATACTCTGCTCAGGAGCCCGATG\"]\n",
    "dna3 = [\"GGCGGGAGGCAAGAGTCCGCGTCTCAAGATTATAAGCGGGGG\", \"GCGCCACACGAAGTTGGATACCCTTCGAGTGAGGGAAGACAA\", \n",
    "        \"TGTTTAAGGCAACCTTTTGCTTCTCAACCACGCGCTGGCTCC\", \"CCTATCGGACCCCGCAATGACTCAAGCCAAGTTGCGAGGGTT\", \n",
    "        \"ATAATATCGTTCTTAGATAATCGCACCCTCAGAGTAAGACAA\", \"CTCACTAGACAACAACCTAGATGCTATCTGTGGGTTACTAAG\", \n",
    "        \"TGCAGTGTCACAGACCGAGAGGCTCGCTCGAGCCAAAGCACA\", \"GAGTGGTCTCGACACCTCAGTCAAACCGCATCCTGAGCCCGG\", \n",
    "        \"TTGCATTCATAGGCTATCTCCTGGTTGTTACCCTACAGCCAA\", \"AGTCAATAGCCTCTACCGCATATAATCCAGCAGTAGGAGCGA\"]\n",
    "MedianString(dna, 3)\n",
    "MedianString(dna2, 6)\n",
    "MedianString(dna3, 6)"
   ]
  },
  {
   "cell_type": "code",
   "execution_count": 18,
   "metadata": {},
   "outputs": [
    {
     "data": {
      "text/plain": [
       "'TAGTTTC'"
      ]
     },
     "execution_count": 18,
     "metadata": {},
     "output_type": "execute_result"
    }
   ],
   "source": [
    "dna4 = [\"CTCGATGAGTAGGAAAGTAGTTTCACTGGGCGAACCACCCCGGCGCTAATCCTAGTGCCC\", \"GCAATCCTACCCGAGGCCACATATCAGTAGGAACTAGAACCACCACGGGTGGCTAGTTTC\", \"GGTGTTGAACCACGGGGTTAGTTTCATCTATTGTAGGAATCGGCTTCAAATCCTACACAG\"]\n",
    "MedianString(dna4, 7)"
   ]
  },
  {
   "cell_type": "code",
   "execution_count": 19,
   "metadata": {},
   "outputs": [
    {
     "data": {
      "text/plain": [
       "['CACCCT', 'TACCCT', 'AACCCT']"
      ]
     },
     "execution_count": 19,
     "metadata": {},
     "output_type": "execute_result"
    }
   ],
   "source": [
    "#Similar to previous, but search kmers not in the main text (uses Neighbors)\n",
    "#output is now a list of strings\n",
    "def MedianString2(dna, k):\n",
    "    kmers = []\n",
    "    median = []\n",
    "    if isinstance(dna, str)==True: #If dna is a string, make it a list\n",
    "        new_dna = []\n",
    "        new_dna.append(dna)\n",
    "        dna = new_dna \n",
    "    distance = len(dna[0])*len(dna) #technically, an entry could poorly match everything\n",
    "    for seq in dna:\n",
    "        for i in range(len(seq)-k+1):\n",
    "            kmers.append(seq[i:i+k]) #make a list of all kmers in the first dna string\n",
    "    kmers = list(set(kmers)) #remove duplicates\n",
    "    kmers2 = []\n",
    "    for i in range(len(kmers)):#add more kmers that are not just in the main text\n",
    "        kmers2.append(kmers[i])\n",
    "        newkmers = Neighbors(kmers[i], k%2+1) #arbitrarily decided on this since no number of mismatches is stated. Essentially, adding things that can over half mismatches.\n",
    "        kmers2.extend(newkmers) #add new kmers to the list\n",
    "    kmers2 = list(set(kmers2)) #remove duplicates\n",
    "    for kmer in kmers2:\n",
    "        if distance > d(kmer, dna): #if the new kmer has a small distance...\n",
    "            distance = d(kmer, dna) #reset the distance to the new min\n",
    "            median = [] #reset the median to get rid of anything that performed worse\n",
    "            median.append(kmer)\n",
    "        elif distance == d(kmer, dna): #if distance is the same, add it to the list so we know there are multiple motifs that perform equally well\n",
    "            median.append(kmer)\n",
    "    return median\n",
    "\n",
    "test = [\"ATA\",\"ACA\",\"AGA\",\"AAT\",\"AAC\"]\n",
    "\n",
    "MedianString2(test, 3)\n",
    "\n",
    "MedianString2(dna, 3)\n",
    "\n",
    "dna = ['TGTTGGAAATATCACGTGGACCCTCTCGTGCAGTGGATATAA',\n",
    " 'TGTCCGCGGCAACACCCTAGTGCCGGAGCCGGATCTGTGCAA',\n",
    " 'TGGGCGTGGACGTACCCTGACCCCCAATTTCGTGAGTATCAA',\n",
    " 'CTTCATAATTATAACCCTATTTTCAGTCACGAGCACCCTAAG',\n",
    " 'TACCCTCCAATACAGGACGTACCTAGGTGCGCGCGCCAGACG',\n",
    " 'TGTATTAACCAAAGATAGTCCCGGTACCCTGCGCGCTCGGCA',\n",
    " 'AACCCTCCACTCCGGAATAATGTTTACATACCCCCTTTAATT',\n",
    " 'CTGCTAGCATAGAGCATTGCTTGTTTGGCTGCCCTACACCCT',\n",
    " 'GTGCAGGGCGTAAGATAGAACCCTGCTACGAGCCGTGGAAAC',\n",
    " 'CAGAACACCCGCGCAAGAGACCCTTCGGTAGGAATCATGCCT']\n",
    "\n",
    "MedianString(dna, 6)\n",
    "MedianString2(dna, 6)"
   ]
  },
  {
   "cell_type": "code",
   "execution_count": 22,
   "metadata": {},
   "outputs": [
    {
     "data": {
      "text/plain": [
       "['TAGTTTC', 'GAACCAC', 'AATCCTA', 'GTAGGAA']"
      ]
     },
     "execution_count": 22,
     "metadata": {},
     "output_type": "execute_result"
    }
   ],
   "source": [
    "MedianString2(dna4, 7)"
   ]
  },
  {
   "cell_type": "code",
   "execution_count": 23,
   "metadata": {},
   "outputs": [
    {
     "data": {
      "text/plain": [
       "0.0"
      ]
     },
     "execution_count": 23,
     "metadata": {},
     "output_type": "execute_result"
    }
   ],
   "source": [
    "#Find the likelihood of a certain sequence occuring within a profile of dna strings (probability of each nucleotide at each position)\n",
    "#text is a dna string\n",
    "#profile is a dictionary with keys A, C, G, T and the same number of entries as text\n",
    "#output is an integer\n",
    "def Pr(text, profile):\n",
    "    p=1\n",
    "    for i in range(len(text)):\n",
    "        p=p*profile[text[i]][i]\n",
    "    return p\n",
    "\n",
    "profile = {\n",
    "\n",
    "    'A': [0.2, 0.2, 0.0, 0.0, 0.0, 0.0, 0.9, 0.1, 0.1, 0.1, 0.3, 0.0],\n",
    "    'C': [0.1, 0.6, 0.0, 0.0, 0.0, 0.0, 0.0, 0.4, 0.1, 0.2, 0.4, 0.6],\n",
    "    'G': [0.0, 0.0, 1.0, 1.0, 0.9, 0.9, 0.1, 0.0, 0.0, 0.0, 0.0, 0.0],\n",
    "    'T': [0.7, 0.2, 0.0, 0.0, 0.1, 0.1, 0.0, 0.5, 0.8, 0.7, 0.3, 0.4]\n",
    "}\n",
    "\n",
    "Pr(\"TCGTGGATTTCC\", profile)"
   ]
  },
  {
   "cell_type": "code",
   "execution_count": 24,
   "metadata": {},
   "outputs": [
    {
     "data": {
      "text/plain": [
       "0.0054"
      ]
     },
     "execution_count": 24,
     "metadata": {},
     "output_type": "execute_result"
    }
   ],
   "source": [
    "profile = {\n",
    "\n",
    "    'A': [0.4, 0.3, 0.0, 0.1, 0.0, 0.9],\n",
    "    'C': [0.2, 0.3, 0.0, 0.4, 0.0, 0.1],\n",
    "    'G': [0.1, 0.3, 1.0, 0.1, 0.5, 0.0],\n",
    "    'T': [0.3, 0.1, 0.0, 0.4, 0.5, 0.0]\n",
    "}\n",
    "\n",
    "Pr(\"GAGCTA\", profile)"
   ]
  },
  {
   "cell_type": "code",
   "execution_count": null,
   "metadata": {},
   "outputs": [],
   "source": []
  }
 ],
 "metadata": {
  "kernelspec": {
   "display_name": "Python 3",
   "language": "python",
   "name": "python3"
  },
  "language_info": {
   "codemirror_mode": {
    "name": "ipython",
    "version": 3
   },
   "file_extension": ".py",
   "mimetype": "text/x-python",
   "name": "python",
   "nbconvert_exporter": "python",
   "pygments_lexer": "ipython3",
   "version": "3.7.4"
  }
 },
 "nbformat": 4,
 "nbformat_minor": 4
}
